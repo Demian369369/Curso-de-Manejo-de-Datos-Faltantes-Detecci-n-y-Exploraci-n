{
  "cells": [
    {
      "cell_type": "markdown",
      "source": "## Importar librerías",
      "metadata": {
        "tags": [],
        "deepnote_cell_height": 70,
        "cell_id": "3f0a0e78bb094d198f391f17a41d78ea",
        "deepnote_cell_type": "markdown"
      },
      "block_group": "dbac67af4a4c43f289c0121bc5223485"
    },
    {
      "cell_type": "code",
      "source": "import pandas as pd",
      "metadata": {
        "tags": [],
        "source_hash": "9b82ee11",
        "output_cleared": true,
        "execution_start": 1709745724534,
        "execution_millis": 243,
        "deepnote_to_be_reexecuted": false,
        "cell_id": "9f5089c32766457a89afd862e03f4796",
        "deepnote_cell_type": "code"
      },
      "outputs": [],
      "outputs_reference": null,
      "execution_count": 1,
      "block_group": "a18b7302b0dd4a59ada38e0b427ce565"
    },
    {
      "cell_type": "markdown",
      "source": "## Datos de prueba",
      "metadata": {
        "tags": [],
        "deepnote_cell_height": 70,
        "cell_id": "b77b73fe81e348faa3e170efab480bd7",
        "deepnote_cell_type": "markdown"
      },
      "block_group": "a98de96c843a47149b19c1e9ce63abaf"
    },
    {
      "cell_type": "code",
      "source": "df = pd.DataFrame.from_dict(\n    data = {\n        \"a\": list(\"asdfasdfas\"),\n        \"b\": range(0, 10)\n    }\n)\n\ndf.iloc[2:5, 0] = None\ndf.iloc[6:7, 1] = None\n\ndf",
      "metadata": {
        "tags": [],
        "source_hash": "8d0d19be",
        "output_cleared": true,
        "execution_start": 1709746069278,
        "execution_millis": 91,
        "deepnote_to_be_reexecuted": false,
        "deepnote_output_height_limit_disabled": false,
        "cell_id": "fc3de53006fb408e8cb6a2f798f8d830",
        "deepnote_cell_type": "code"
      },
      "outputs": [],
      "outputs_reference": null,
      "execution_count": 19,
      "block_group": "76bfb57a21cf4b44851799646b9c694b"
    },
    {
      "cell_type": "code",
      "source": "df.a.str",
      "metadata": {
        "tags": [],
        "source_hash": "b209f104",
        "execution_start": 1709746106962,
        "execution_millis": 100,
        "deepnote_to_be_reexecuted": false,
        "cell_id": "75f3056f5641469d87a58fbdfd0b9553",
        "deepnote_cell_type": "code"
      },
      "outputs": [
        {
          "output_type": "execute_result",
          "execution_count": 21,
          "data": {
            "text/plain": "<pandas.core.strings.accessor.StringMethods at 0x7f2976c99130>"
          },
          "metadata": {}
        }
      ],
      "outputs_reference": null,
      "execution_count": 21,
      "block_group": "2620de0a6d334003b668bd9c6057a578"
    },
    {
      "cell_type": "code",
      "source": "df.missing",
      "metadata": {
        "source_hash": "9eb1abd8",
        "execution_start": 1709746492465,
        "execution_millis": 1441,
        "deepnote_to_be_reexecuted": false,
        "cell_id": "0795809cf9104d7a8d5a51588659a96c",
        "deepnote_cell_type": "code"
      },
      "outputs": [
        {
          "output_type": "error",
          "ename": "AttributeError",
          "evalue": "'DataFrame' object has no attribute 'missing'",
          "traceback": [
            "\u001b[0;31m---------------------------------------------------------------------------\u001b[0m",
            "\u001b[0;31mAttributeError\u001b[0m                            Traceback (most recent call last)",
            "Cell \u001b[0;32mIn [24], line 1\u001b[0m\n\u001b[0;32m----> 1\u001b[0m \u001b[43mdf\u001b[49m\u001b[38;5;241;43m.\u001b[39;49m\u001b[43mmissing\u001b[49m\n",
            "File \u001b[0;32m/shared-libs/python3.9/py/lib/python3.9/site-packages/pandas/core/generic.py:6204\u001b[0m, in \u001b[0;36mNDFrame.__getattr__\u001b[0;34m(self, name)\u001b[0m\n\u001b[1;32m   6197\u001b[0m \u001b[38;5;28;01mif\u001b[39;00m (\n\u001b[1;32m   6198\u001b[0m     name \u001b[38;5;129;01mnot\u001b[39;00m \u001b[38;5;129;01min\u001b[39;00m \u001b[38;5;28mself\u001b[39m\u001b[38;5;241m.\u001b[39m_internal_names_set\n\u001b[1;32m   6199\u001b[0m     \u001b[38;5;129;01mand\u001b[39;00m name \u001b[38;5;129;01mnot\u001b[39;00m \u001b[38;5;129;01min\u001b[39;00m \u001b[38;5;28mself\u001b[39m\u001b[38;5;241m.\u001b[39m_metadata\n\u001b[1;32m   6200\u001b[0m     \u001b[38;5;129;01mand\u001b[39;00m name \u001b[38;5;129;01mnot\u001b[39;00m \u001b[38;5;129;01min\u001b[39;00m \u001b[38;5;28mself\u001b[39m\u001b[38;5;241m.\u001b[39m_accessors\n\u001b[1;32m   6201\u001b[0m     \u001b[38;5;129;01mand\u001b[39;00m \u001b[38;5;28mself\u001b[39m\u001b[38;5;241m.\u001b[39m_info_axis\u001b[38;5;241m.\u001b[39m_can_hold_identifiers_and_holds_name(name)\n\u001b[1;32m   6202\u001b[0m ):\n\u001b[1;32m   6203\u001b[0m     \u001b[38;5;28;01mreturn\u001b[39;00m \u001b[38;5;28mself\u001b[39m[name]\n\u001b[0;32m-> 6204\u001b[0m \u001b[38;5;28;01mreturn\u001b[39;00m \u001b[38;5;28;43mobject\u001b[39;49m\u001b[38;5;241;43m.\u001b[39;49m\u001b[38;5;21;43m__getattribute__\u001b[39;49m\u001b[43m(\u001b[49m\u001b[38;5;28;43mself\u001b[39;49m\u001b[43m,\u001b[49m\u001b[43m \u001b[49m\u001b[43mname\u001b[49m\u001b[43m)\u001b[49m\n",
            "\u001b[0;31mAttributeError\u001b[0m: 'DataFrame' object has no attribute 'missing'"
          ]
        }
      ],
      "outputs_reference": null,
      "execution_count": 24,
      "block_group": "54b7e6335d684e7aa85a40e18fd06152"
    },
    {
      "cell_type": "markdown",
      "source": "## Crear una nueva clase para extender pandas",
      "metadata": {
        "tags": [],
        "deepnote_cell_height": 110,
        "cell_id": "fbab5e0f5633418ea739a05805e8002b",
        "deepnote_cell_type": "markdown"
      },
      "block_group": "394a48fdab1d4b8689d5231601c21106"
    },
    {
      "cell_type": "code",
      "source": "@pd.api.extensions.register_dataframe_accessor(\"missing\")\nclass MissingMethods:\n\n    def __init__(self, pandas_obj):\n\n        self._df = pandas_obj\n\n    def missing(self):\n\n        return self._df.isnull().sum().sum()\n\n    def number_complete(self):\n\n        return self._df.size - self._df.missing.number_missing()\n\n    def proportion_missing(self):\n        pass",
      "metadata": {
        "tags": [],
        "source_hash": "709803e3",
        "output_cleared": true,
        "execution_start": 1709746836443,
        "execution_millis": 152,
        "deepnote_to_be_reexecuted": false,
        "cell_id": "f4189087d5f44a0ba6d2537b33bb6743",
        "deepnote_cell_type": "code"
      },
      "outputs": [],
      "outputs_reference": null,
      "execution_count": 33,
      "block_group": "64c311d80c6442c3a41453b1cb6b66db"
    },
    {
      "cell_type": "markdown",
      "source": "## Probar uso",
      "metadata": {
        "tags": [],
        "deepnote_cell_height": 70,
        "cell_id": "3941bdd55ec848918664d1e1f8d9fa78",
        "deepnote_cell_type": "markdown"
      },
      "block_group": "3c471a9506e5450fb7f3e21846b2dde0"
    },
    {
      "cell_type": "code",
      "source": "df= pd.DataFrame(df)",
      "metadata": {
        "tags": [],
        "source_hash": "af1c6e83",
        "owner_user_id": "bc32f83c-a807-4a78-8769-dff22df5fe36",
        "output_cleared": true,
        "execution_start": 1709746554618,
        "execution_millis": 47,
        "deepnote_to_be_reexecuted": false,
        "cell_id": "b55f4717c86d41908136324a0b93470e",
        "deepnote_cell_type": "code"
      },
      "outputs": [],
      "outputs_reference": null,
      "execution_count": 26,
      "block_group": "58a4af0657c44764afbc4f858b3c1725"
    },
    {
      "cell_type": "code",
      "source": "df.missing",
      "metadata": {
        "tags": [],
        "source_hash": "9eb1abd8",
        "output_cleared": true,
        "execution_start": 1709746843618,
        "execution_millis": 103,
        "deepnote_to_be_reexecuted": false,
        "cell_id": "8e22ace5b0c94e83874b7203a6485dab",
        "deepnote_cell_type": "code"
      },
      "outputs": [],
      "outputs_reference": null,
      "execution_count": 34,
      "block_group": "755ee6a39e884a03b70b152497b5fd9b"
    },
    {
      "cell_type": "code",
      "source": "df.missing.number_missing()",
      "metadata": {
        "tags": [],
        "source_hash": "f82cfc63",
        "output_cleared": true,
        "execution_start": 1709746846003,
        "execution_millis": 25,
        "deepnote_to_be_reexecuted": false,
        "cell_id": "754e0c9d8e22413a909307e12105894e",
        "deepnote_cell_type": "code"
      },
      "outputs": [],
      "outputs_reference": null,
      "execution_count": 35,
      "block_group": "689b239d17824878964cf767ce45decb"
    },
    {
      "cell_type": "code",
      "source": "df.missing.number_complete()",
      "metadata": {
        "tags": [],
        "source_hash": "19f37641",
        "output_cleared": true,
        "execution_start": 1709746861364,
        "execution_millis": 42,
        "deepnote_to_be_reexecuted": false,
        "cell_id": "2ba563a1e2494c8888215c5bca40e5ab",
        "deepnote_cell_type": "code"
      },
      "outputs": [],
      "outputs_reference": null,
      "execution_count": 36,
      "block_group": "1b312bdafd274a03b9c85afdf06ab48e"
    },
    {
      "cell_type": "code",
      "source": "",
      "metadata": {
        "tags": [],
        "source_hash": "b623e53d",
        "output_cleared": true,
        "execution_start": 1709745724618,
        "execution_millis": 367,
        "deepnote_to_be_reexecuted": false,
        "cell_id": "5befaac48b7440c48235927d0a60af44",
        "deepnote_cell_type": "code"
      },
      "outputs": [],
      "outputs_reference": null,
      "execution_count": 3,
      "block_group": "028b5fb6172d4222a944718767b8b4f9"
    },
    {
      "cell_type": "markdown",
      "source": "<a style='text-decoration:none;line-height:16px;display:flex;color:#5B5B62;padding:10px;justify-content:end;' href='https://deepnote.com?utm_source=created-in-deepnote-cell&projectId=0d6442de-1266-44a4-abe0-6e03aa5003ab' target=\"_blank\">\n<img alt='Created in deepnote.com' style='display:inline;max-height:16px;margin:0px;margin-right:7.5px;' src='data:image/svg+xml;base64,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' > </img>\nCreated in <span style='font-weight:600;margin-left:4px;'>Deepnote</span></a>",
      "metadata": {
        "created_in_deepnote_cell": true,
        "deepnote_cell_type": "markdown"
      }
    }
  ],
  "nbformat": 4,
  "nbformat_minor": 0,
  "metadata": {
    "deepnote_persisted_session": {
      "createdAt": "2024-03-05T18:49:39.144Z"
    },
    "deepnote_notebook_id": "e18de220215f438abd17cf6ab23f4771",
    "deepnote_execution_queue": []
  }
}
{
  "cells": [
    {
      "cell_type": "markdown",
      "source": "# Curso de Manejo de Datos Faltantes: Detección y Exploración\n\n[![Curso creado por jvelezmagic](https://img.shields.io/badge/Desarrollado%20por-%40jvelezmagic-blue?&style=for-the-badge&logo=data:image/png;base64,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)](https://jvelezmagic.com/)\n\n![Curso de Exploración de Valores Faltantes para Data Science](logo-curso.jpeg)",
      "metadata": {
        "tags": [],
        "deepnote_app_coordinates": {
          "h": 5,
          "w": 12,
          "x": 0,
          "y": 1
        },
        "cell_id": "1f367d9000944177acd403a0fd461b20",
        "deepnote_cell_type": "markdown"
      },
      "block_group": "f1a71508947542f3bc6701e156c8716b"
    },
    {
      "cell_type": "markdown",
      "source": "## Configuración de ambiente de trabajo",
      "metadata": {
        "tags": [],
        "owner_user_id": "bc32f83c-a807-4a78-8769-dff22df5fe36",
        "deepnote_app_coordinates": {
          "h": 5,
          "w": 12,
          "x": 0,
          "y": 13
        },
        "cell_id": "c089916d11af4d9094a64adec8e871b8",
        "deepnote_cell_type": "markdown"
      },
      "block_group": "7c82e43ecd9a417f8c34de8d062e772b"
    },
    {
      "cell_type": "markdown",
      "source": "```bash\npip install --upgrade pip\n```",
      "metadata": {
        "tags": [],
        "deepnote_app_coordinates": {
          "h": 5,
          "w": 12,
          "x": 0,
          "y": 19
        },
        "cell_id": "b9645fe71e274590ad003ec03758c790",
        "deepnote_cell_type": "markdown"
      },
      "block_group": "f4ffad1587524a1991aaf4f6fdf560dc"
    },
    {
      "cell_type": "markdown",
      "source": "```bash\npip install pyjanitor matplotlib==3.5.1 missingno numpy pandas pyreadr seaborn session-info upsetplot==0.6.1\n```\n\nor \n\n```bash\npip install -r requirements.txt\n```",
      "metadata": {
        "tags": [],
        "deepnote_app_coordinates": {
          "h": 5,
          "w": 12,
          "x": 0,
          "y": 25
        },
        "cell_id": "91c99750a02848779c430912d87b4860",
        "deepnote_cell_type": "markdown"
      },
      "block_group": "dab74e66ab3b4030887ebfcc4da6eb27"
    },
    {
      "cell_type": "markdown",
      "source": "## Importar librerías",
      "metadata": {
        "tags": [],
        "deepnote_app_coordinates": {
          "h": 5,
          "w": 12,
          "x": 0,
          "y": 31
        },
        "cell_id": "84ad221edca4423fa185e9b5680548cf",
        "deepnote_cell_type": "markdown"
      },
      "block_group": "849fe72dd0be49798c77489e1951604e"
    },
    {
      "cell_type": "code",
      "source": "import janitor\nimport matplotlib.pyplot as plt\nimport missingno\nimport numpy as np\nimport pandas as pd\nimport pyreadr\nimport seaborn as sns\nimport session_info\nimport upsetplot",
      "metadata": {
        "tags": [],
        "source_hash": null,
        "output_cleared": true,
        "execution_start": 1709836172801,
        "execution_millis": 1218,
        "deepnote_app_coordinates": {
          "h": 5,
          "w": 12,
          "x": 0,
          "y": 37
        },
        "deepnote_to_be_reexecuted": false,
        "cell_id": "6a758443491f41e3802362e4c2dbedfc",
        "deepnote_cell_type": "code"
      },
      "outputs": [],
      "outputs_reference": null,
      "execution_count": null,
      "block_group": "75b2627383ca4b1ba27ee97d5abb42ea"
    },
    {
      "cell_type": "markdown",
      "source": "## Importar funciones personalizadas",
      "metadata": {
        "tags": [],
        "deepnote_app_coordinates": {
          "h": 5,
          "w": 12,
          "x": 0,
          "y": 43
        },
        "cell_id": "1f08e783cc804d9e8c02253caaed9414",
        "deepnote_cell_type": "markdown"
      },
      "block_group": "2c36e1b1eb474062a19b8193644f6131"
    },
    {
      "cell_type": "markdown",
      "source": "## Configurar el aspecto general de las gráficas del proyecto",
      "metadata": {
        "tags": [],
        "deepnote_app_coordinates": {
          "h": 5,
          "w": 12,
          "x": 0,
          "y": 55
        },
        "cell_id": "4a7a964f7e7545728f1abe7121e76744",
        "deepnote_cell_type": "markdown"
      },
      "block_group": "33f565906dc146909d0c5b16eec957be"
    },
    {
      "cell_type": "code",
      "source": "%matplotlib inline\n\nsns.set(\n    rc={\n        \"figure.figsize\": (10, 10)\n    }\n)\n\nsns.set_style(\"whitegrid\")",
      "metadata": {
        "tags": [],
        "source_hash": null,
        "output_cleared": true,
        "execution_start": 1709836174023,
        "execution_millis": 34,
        "deepnote_app_coordinates": {
          "h": 5,
          "w": 12,
          "x": 0,
          "y": 61
        },
        "deepnote_to_be_reexecuted": false,
        "cell_id": "8d753d1d8c5246f0b92989e0323b6cc5",
        "deepnote_cell_type": "code"
      },
      "outputs": [],
      "outputs_reference": null,
      "execution_count": null,
      "block_group": "33e5eaad0917441da2560ba20927741f"
    },
    {
      "cell_type": "markdown",
      "source": "## Operar con valores faltantes",
      "metadata": {
        "tags": [],
        "deepnote_app_coordinates": {
          "h": 5,
          "w": 12,
          "x": 0,
          "y": 67
        },
        "cell_id": "62987aa1484a4a20b7fe107eaafe3442",
        "deepnote_cell_type": "markdown"
      },
      "block_group": "4b81b7e1fb6344d1b30bdb606b73e6b7"
    },
    {
      "cell_type": "markdown",
      "source": "### Python",
      "metadata": {
        "tags": [],
        "deepnote_app_coordinates": {
          "h": 5,
          "w": 12,
          "x": 0,
          "y": 73
        },
        "cell_id": "c7035a6ec11b40b98af5483b0270389b",
        "deepnote_cell_type": "markdown"
      },
      "block_group": "f374b01f6261499faa59a5aa14d59b9b"
    },
    {
      "cell_type": "code",
      "source": "print(\n     None or True,\n     None or False,\n     None == None,\n     None is None,\n     None + True,\n     None / False,\n     type(None),\n     sep\"\\n\"\n)",
      "metadata": {
        "tags": [],
        "source_hash": null,
        "output_cleared": true,
        "execution_start": 1709836174028,
        "execution_millis": 65,
        "deepnote_to_be_reexecuted": false,
        "cell_id": "b58accd7dcb24e8a83783c7612078c0e",
        "deepnote_cell_type": "code"
      },
      "outputs": [],
      "outputs_reference": null,
      "execution_count": null,
      "block_group": "419c66e043234760933f22764df96e62"
    },
    {
      "cell_type": "markdown",
      "source": "### NumPy",
      "metadata": {
        "tags": [],
        "deepnote_app_coordinates": {
          "h": 5,
          "w": 12,
          "x": 0,
          "y": 85
        },
        "cell_id": "c04511c46be143c7b5c7d9f80eac55f4",
        "deepnote_cell_type": "markdown"
      },
      "block_group": "29d6b10a5c1e44acb4df4e91736f609b"
    },
    {
      "cell_type": "code",
      "source": "print(\n    np.nan or True,\n    np.nan == np.nan,\n    np.nan is np.nan,\n    np.nan / 2,\n    type(np.nan),\n    sep\"\\n\"\n)",
      "metadata": {
        "tags": [],
        "source_hash": null,
        "output_cleared": true,
        "execution_start": 1709836179562,
        "execution_millis": 111,
        "deepnote_to_be_reexecuted": false,
        "cell_id": "ca9f103c01eb4a51b9348883e55a91ea",
        "deepnote_cell_type": "code"
      },
      "outputs": [],
      "outputs_reference": null,
      "execution_count": null,
      "block_group": "0bb62afcf6c14baba800385bf2efda8a"
    },
    {
      "cell_type": "markdown",
      "source": "### Pandas",
      "metadata": {
        "tags": [],
        "deepnote_app_coordinates": {
          "h": 5,
          "w": 12,
          "x": 0,
          "y": 97
        },
        "cell_id": "f6b5d16e57e44355b3faccb702e99db4",
        "deepnote_cell_type": "markdown"
      },
      "block_group": "12e0c18ed40e490fae21958792bd85bd"
    },
    {
      "cell_type": "code",
      "source": "test_mising_df = pd.DataFrame.from_dict(\n    data=dict(\n        x = [0, 1, np.nan, np.nan, None],\n        y = [0, 1, np.nan, np.nan, None]\n )\n)\n\ntest_missing_df",
      "metadata": {
        "tags": [],
        "source_hash": null,
        "output_cleared": true,
        "execution_start": 1709836181599,
        "execution_millis": 472,
        "deepnote_app_coordinates": {
          "h": 5,
          "w": 12,
          "x": 0,
          "y": 103
        },
        "deepnote_to_be_reexecuted": false,
        "cell_id": "6970700b7529454ba060cea76c6c5236",
        "deepnote_cell_type": "code"
      },
      "outputs": [],
      "outputs_reference": null,
      "execution_count": null,
      "block_group": "fd3fd540319542da83b23c632e1f0c6d"
    },
    {
      "cell_type": "code",
      "source": "test_mising_df.isnull()",
      "metadata": {
        "tags": [],
        "source_hash": null,
        "output_cleared": true,
        "execution_start": 1709748412871,
        "execution_millis": 240,
        "deepnote_app_coordinates": {
          "h": 5,
          "w": 12,
          "x": 0,
          "y": 109
        },
        "deepnote_to_be_reexecuted": true,
        "cell_id": "7d29619c1050418690700a92e4ff467a",
        "deepnote_cell_type": "code"
      },
      "outputs": [],
      "outputs_reference": null,
      "execution_count": null,
      "block_group": "65b87570537f4b488d8b7c08435794eb"
    },
    {
      "cell_type": "code",
      "source": "test_mising_df.x.isnull()",
      "metadata": {
        "tags": [],
        "source_hash": null,
        "output_cleared": true,
        "execution_start": 1709748414219,
        "execution_millis": 30,
        "deepnote_app_coordinates": {
          "h": 5,
          "w": 12,
          "x": 0,
          "y": 115
        },
        "deepnote_to_be_reexecuted": true,
        "cell_id": "98acb767e7a84c02ae403ccc1c2779a6",
        "deepnote_cell_type": "code"
      },
      "outputs": [],
      "outputs_reference": null,
      "execution_count": null,
      "block_group": "a1967cd6ac4b4583b217cefb8a837756"
    },
    {
      "cell_type": "code",
      "source": "pd.Series([1, np, nan])",
      "metadata": {
        "tags": [],
        "source_hash": null,
        "output_cleared": true,
        "execution_start": 1709748415609,
        "execution_millis": 47,
        "deepnote_app_coordinates": {
          "h": 5,
          "w": 12,
          "x": 0,
          "y": 121
        },
        "deepnote_to_be_reexecuted": true,
        "cell_id": "e603db1a74f94fcd9e4621ef2d4837be",
        "deepnote_cell_type": "code"
      },
      "outputs": [],
      "outputs_reference": null,
      "execution_count": null,
      "block_group": "eedb743157cd45449bcd16290ea64e21"
    },
    {
      "cell_type": "code",
      "source": "pd.Series([pd.to_datatime(\"2022-01-01\"), np.nan])",
      "metadata": {
        "tags": [],
        "source_hash": null,
        "output_cleared": true,
        "execution_start": 1709748417355,
        "execution_millis": 63,
        "deepnote_app_coordinates": {
          "h": 5,
          "w": 12,
          "x": 0,
          "y": 127
        },
        "deepnote_to_be_reexecuted": true,
        "cell_id": "c43b29b11ff346e585fdc0db66f14ce2",
        "deepnote_cell_type": "code"
      },
      "outputs": [],
      "outputs_reference": null,
      "execution_count": null,
      "block_group": "0bfdc777b37d4954865baabc59e9c311"
    },
    {
      "cell_type": "code",
      "source": "pd.Series([-1]).isna()",
      "metadata": {
        "tags": [],
        "source_hash": null,
        "output_cleared": true,
        "execution_start": 1709748420414,
        "execution_millis": 44,
        "deepnote_app_coordinates": {
          "h": 5,
          "w": 12,
          "x": 0,
          "y": 133
        },
        "deepnote_to_be_reexecuted": true,
        "cell_id": "b58d394eae484d17a59ec2c6b0a8bbac",
        "deepnote_cell_type": "code"
      },
      "outputs": [],
      "outputs_reference": null,
      "execution_count": null,
      "block_group": "5430f3bdac0a4d01ae67bc9da27575ea"
    },
    {
      "cell_type": "code",
      "source": "",
      "metadata": {
        "tags": [],
        "source_hash": null,
        "output_cleared": true,
        "execution_start": 1709748421741,
        "execution_millis": 15,
        "deepnote_to_be_reexecuted": true,
        "cell_id": "335404aedc344f5fa3141b967b1aa67f",
        "deepnote_cell_type": "code"
      },
      "outputs": [],
      "outputs_reference": null,
      "execution_count": null,
      "block_group": "8c85dd8318c34d46aba2a9cfa0e7dcd5"
    },
    {
      "cell_type": "markdown",
      "source": "## Cargar los conjuntos de datos",
      "metadata": {
        "tags": [],
        "deepnote_app_coordinates": {
          "h": 5,
          "w": 12,
          "x": 0,
          "y": 139
        },
        "cell_id": "b37d4aa7a4b34aefb68a529f16ddc3e4",
        "deepnote_cell_type": "markdown"
      },
      "block_group": "4609f4a26dc644b6a20acedd9f83f246"
    },
    {
      "cell_type": "markdown",
      "source": "### Pima Indians Diabetes",
      "metadata": {
        "tags": [],
        "deepnote_app_coordinates": {
          "h": 5,
          "w": 12,
          "x": 0,
          "y": 0
        },
        "cell_id": "ea9dcef078334715a7404f8b6e8dcca2",
        "deepnote_cell_type": "markdown"
      },
      "block_group": "6cb4e23d662b4f57b1464917d037e2e0"
    },
    {
      "cell_type": "code",
      "source": "pima_indians_diabetes_url = (\"https://nrvis.com/data/mldata/pima-indians-diabetes.csv\"\n",
      "metadata": {
        "tags": [],
        "source_hash": null,
        "output_cleared": true,
        "execution_start": 1709748425894,
        "execution_millis": 87,
        "deepnote_to_be_reexecuted": true,
        "cell_id": "563cd37998ee426eb1fb0f2afee675eb",
        "deepnote_cell_type": "code"
      },
      "outputs": [],
      "outputs_reference": null,
      "execution_count": null,
      "block_group": "a294a6b7418b40b4b16b96eadf47a750"
    },
    {
      "cell_type": "code",
      "source": "!wget -O /data/pima-indians-diabetes.csv $pima_indians_diabetes_url { \"pima-indians-diabetes.csv\" } -q",
      "metadata": {
        "tags": [],
        "source_hash": null,
        "output_cleared": true,
        "execution_start": 1709748430976,
        "execution_millis": 785,
        "deepnote_to_be_reexecuted": true,
        "cell_id": "62d31eff9d6247289234b36735a40b3d",
        "deepnote_cell_type": "code"
      },
      "outputs": [],
      "outputs_reference": null,
      "execution_count": null,
      "block_group": "7a06812962c640fda50bf3fc9ddd8e89"
    },
    {
      "cell_type": "code",
      "source": "diabetes_df = pd.read_csv(\n    \"./data/pima-indians-diabetes.csv\", #or pima_indians_diabetes_url\n    sep=\",\",\n    names=[\n        \"pregnancies\", \n        \"glucose\", \n        \"blood_pressure\", \n        \"skin_thickness\", \n        \"insulin\", \n        \"bmi\", \n        \"pedigree\", \n        \"age\", \n        \"outcome\"],\n)",
      "metadata": {
        "tags": [],
        "source_hash": null,
        "output_cleared": true,
        "execution_start": 1709748432724,
        "execution_millis": 388,
        "deepnote_app_coordinates": {
          "h": 5,
          "w": 12,
          "x": 0,
          "y": 0
        },
        "deepnote_to_be_reexecuted": true,
        "cell_id": "b93659c714f84e989b1a509da346b9fe",
        "deepnote_cell_type": "code"
      },
      "outputs": [],
      "outputs_reference": null,
      "execution_count": null,
      "block_group": "fa8dadbfb64f4270920b6d4f8e3b573b"
    },
    {
      "cell_type": "markdown",
      "source": "### naniar (oceanbuoys, pedestrian, riskfactors)",
      "metadata": {
        "tags": [],
        "deepnote_app_coordinates": {
          "h": 5,
          "w": 12,
          "x": 0,
          "y": 0
        },
        "cell_id": "82e3ef900f3e46fba63e815e915730f2",
        "deepnote_cell_type": "markdown"
      },
      "block_group": "62cb96ca5ba542c79e68622f76708ffe"
    },
    {
      "cell_type": "markdown",
      "source": "#### Crear unidades de información de los conjuntos de datos",
      "metadata": {
        "tags": [],
        "deepnote_app_coordinates": {
          "h": 5,
          "w": 12,
          "x": 0,
          "y": 145
        },
        "cell_id": "139932ac95e4403f80a74b59f81a3cc7",
        "deepnote_cell_type": "markdown"
      },
      "block_group": "3381e96310214bd2b8e7c06523d3420a"
    },
    {
      "cell_type": "code",
      "source": "base_url = \"https://github.com/njtierney/naniar/raw/master/data/\"\ndatasets_names = (\"oceanbuoys\", \"pedestrian\", \"riskfactors\")\nextension = \".rda\"",
      "metadata": {
        "tags": [],
        "source_hash": null,
        "output_cleared": true,
        "execution_start": 1709748437042,
        "execution_millis": 107,
        "deepnote_app_coordinates": {
          "h": 5,
          "w": 12,
          "x": 0,
          "y": 151
        },
        "deepnote_to_be_reexecuted": true,
        "cell_id": "14acb144605a44e6aeee151388f082be",
        "deepnote_cell_type": "code"
      },
      "outputs": [],
      "outputs_reference": null,
      "execution_count": null,
      "block_group": "540a0329c70846648653e53bc5315eff"
    },
    {
      "cell_type": "markdown",
      "source": "#### Descargar y cargar los conjuntos de datos",
      "metadata": {
        "tags": [],
        "deepnote_app_coordinates": {
          "h": 5,
          "w": 12,
          "x": 0,
          "y": 157
        },
        "cell_id": "839437204f0146c8a76681f87848d5b0",
        "deepnote_cell_type": "markdown"
      },
      "block_group": "bddd7ecad17b4e03a9fa18fde18aeac9"
    },
    {
      "cell_type": "code",
      "source": "datasets_dfs = {}\n\nfor dataset_name in datasets_names:\n\n    dataset_file = f\"{ dataset_name }{ extension }\"\n    dataset_output_file = f\"./data/{ dataset_file }\"\n    dataset_url = f\"{ base_url }{ dataset_file }\"\n    \n    !wget -q -O { dataset_output_file } { dataset_url }\n\n    datasets_dfs[f\"{ dataset_name }_df\"] = pyreadr.read_r(dataset_output_file).get(dataset_name)\n\ndatasets_dfs.keys()",
      "metadata": {
        "tags": [],
        "source_hash": null,
        "output_cleared": true,
        "execution_start": 1709748438485,
        "execution_millis": 4886,
        "deepnote_to_be_reexecuted": true,
        "cell_id": "9ca8c6709ada4f7b9946b5da9a7303a3",
        "deepnote_cell_type": "code"
      },
      "outputs": [],
      "outputs_reference": null,
      "execution_count": null,
      "block_group": "a22473bc2b424c69b54cc784870f66eb"
    },
    {
      "cell_type": "markdown",
      "source": "#### Incluir conjuntos de datos en nuestro ambiente local",
      "metadata": {
        "tags": [],
        "deepnote_app_coordinates": {
          "h": 5,
          "w": 12,
          "x": 0,
          "y": 169
        },
        "cell_id": "6361cfa8f11c4f209f14574846c21d17",
        "deepnote_cell_type": "markdown"
      },
      "block_group": "b65d2cc0f41b4cd19a052138457e6514"
    },
    {
      "cell_type": "code",
      "source": "locals().update(datasets_dfs)\ndel datasets_dfs",
      "metadata": {
        "tags": [],
        "source_hash": null,
        "output_cleared": true,
        "execution_start": 1709748443379,
        "execution_millis": 52,
        "deepnote_app_coordinates": {
          "h": 5,
          "w": 12,
          "x": 0,
          "y": 175
        },
        "deepnote_to_be_reexecuted": true,
        "cell_id": "df5d0aad33264b7c8d129300ec1ed34a",
        "deepnote_cell_type": "code"
      },
      "outputs": [],
      "outputs_reference": null,
      "execution_count": null,
      "block_group": "1a3ee85c73964c0799ae4944b35e1b1c"
    },
    {
      "cell_type": "markdown",
      "source": "### Verificar carga",
      "metadata": {
        "tags": [],
        "deepnote_app_coordinates": {
          "h": 5,
          "w": 12,
          "x": 0,
          "y": 181
        },
        "cell_id": "764629bc73e848fc9e2551579f0ad469",
        "deepnote_cell_type": "markdown"
      },
      "block_group": "208f2a699bd340c081898e356d9b11b1"
    },
    {
      "cell_type": "code",
      "source": "oceanbuoys_df .shape, pedestrian_df .shape, riskfactors_df .shape, diabetes_df .shape",
      "metadata": {
        "tags": [],
        "source_hash": null,
        "output_cleared": true,
        "execution_start": 1709748444991,
        "execution_millis": 28,
        "deepnote_app_coordinates": {
          "h": 5,
          "w": 12,
          "x": 0,
          "y": 187
        },
        "deepnote_to_be_reexecuted": true,
        "cell_id": "3d1ec473ea7f454f9a98f6bfdc12933d",
        "deepnote_cell_type": "code"
      },
      "outputs": [],
      "outputs_reference": null,
      "execution_count": null,
      "block_group": "3aa4ca84efee4e66a5a2e071603df8b7"
    },
    {
      "cell_type": "code",
      "source": "riskfactors_df.info()",
      "metadata": {
        "tags": [],
        "source_hash": null,
        "output_cleared": true,
        "execution_start": 1709748446401,
        "execution_millis": 60,
        "deepnote_app_coordinates": {
          "h": 5,
          "w": 12,
          "x": 0,
          "y": 193
        },
        "deepnote_to_be_reexecuted": true,
        "cell_id": "7de797e79af5431f86ec82a5eef6f662",
        "deepnote_cell_type": "code"
      },
      "outputs": [],
      "outputs_reference": null,
      "execution_count": null,
      "block_group": "2afaa068e6734edab0d5e9ff2b45ca30"
    },
    {
      "cell_type": "markdown",
      "source": "## Tabulación de valores faltantes",
      "metadata": {
        "tags": [],
        "deepnote_app_coordinates": {
          "h": 5,
          "w": 12,
          "x": 0,
          "y": 199
        },
        "cell_id": "f3fbf8c3ca6848e1a332a67271a0a444",
        "deepnote_cell_type": "markdown"
      },
      "block_group": "4931ac5d98934dfcade669dbfd512b86"
    },
    {
      "cell_type": "code",
      "source": "riskfactors_df.isna()",
      "metadata": {
        "tags": [],
        "source_hash": null,
        "output_cleared": true,
        "execution_start": 1709748448590,
        "execution_millis": 112,
        "deepnote_app_coordinates": {
          "h": 5,
          "w": 12,
          "x": 0,
          "y": 205
        },
        "deepnote_to_be_reexecuted": true,
        "cell_id": "2a2206549ba9498897be5a7a3c4c5f07",
        "deepnote_cell_type": "code"
      },
      "outputs": [],
      "outputs_reference": null,
      "execution_count": null,
      "block_group": "28c23b37020f40f9822f94357ad45db9"
    },
    {
      "cell_type": "markdown",
      "source": "### Resúmenes básicos de valores faltantes",
      "metadata": {
        "tags": [],
        "deepnote_app_coordinates": {
          "h": 5,
          "w": 12,
          "x": 0,
          "y": 211
        },
        "cell_id": "18e6cdb2168b401894d0809f2e5386b8",
        "deepnote_cell_type": "markdown"
      },
      "block_group": "9e5247a9afcb40e384f53e47a51e8f27"
    },
    {
      "cell_type": "code",
      "source": "riskfactors_df.shape",
      "metadata": {
        "tags": [],
        "source_hash": null,
        "output_cleared": true,
        "execution_start": 1709748451832,
        "execution_millis": 34,
        "deepnote_app_coordinates": {
          "h": 5,
          "w": 12,
          "x": 0,
          "y": 217
        },
        "deepnote_to_be_reexecuted": true,
        "cell_id": "9be3cdfb531c4a4bbe8d634e1af05bd7",
        "deepnote_cell_type": "code"
      },
      "outputs": [],
      "outputs_reference": null,
      "execution_count": null,
      "block_group": "e677968a7cc84f02a3e32a6741680d17"
    },
    {
      "cell_type": "markdown",
      "source": "#### Número total de valores completos (sin observaciones faltantes)",
      "metadata": {
        "tags": [],
        "source_hash": "b623e53d",
        "execution_start": 1657058318180,
        "deepnote_app_coordinates": {
          "h": 5,
          "w": 12,
          "x": 0,
          "y": 223
        },
        "deepnote_to_be_reexecuted": false,
        "cell_id": "1aa3dcc8bac24b06bc7a96828deb68f7",
        "deepnote_cell_type": "markdown"
      },
      "block_group": "ffe29f6f04994422a43494fd5d8a49a4"
    },
    {
      "cell_type": "code",
      "source": "riskfactors_df.missing.nummber_complete()",
      "metadata": {
        "tags": [],
        "source_hash": null,
        "output_cleared": true,
        "execution_start": 1709748453128,
        "execution_millis": 1805,
        "deepnote_app_coordinates": {
          "h": 5,
          "w": 12,
          "x": 0,
          "y": 229
        },
        "deepnote_to_be_reexecuted": true,
        "cell_id": "aa000a6ae5ea48c8a82c68487fbe0c89",
        "deepnote_cell_type": "code"
      },
      "outputs": [],
      "outputs_reference": null,
      "execution_count": null,
      "block_group": "8add42787692443dacef9244a8087eca"
    },
    {
      "cell_type": "markdown",
      "source": "#### Número total de valores faltantes",
      "metadata": {
        "tags": [],
        "deepnote_app_coordinates": {
          "h": 5,
          "w": 12,
          "x": 0,
          "y": 235
        },
        "cell_id": "af10fd2e88104aa79db7bb31fb0fd961",
        "deepnote_cell_type": "markdown"
      },
      "block_group": "f43d3ab4e1394ee08e30710c07073a65"
    },
    {
      "cell_type": "code",
      "source": "riskfactors_df.missing.number_missing()",
      "metadata": {
        "tags": [],
        "source_hash": null,
        "output_cleared": true,
        "execution_start": 1709748458443,
        "execution_millis": 68,
        "deepnote_app_coordinates": {
          "h": 5,
          "w": 12,
          "x": 0,
          "y": 241
        },
        "deepnote_to_be_reexecuted": true,
        "cell_id": "8b06e4f896184644867eea294b2b5358",
        "deepnote_cell_type": "code"
      },
      "outputs": [],
      "outputs_reference": null,
      "execution_count": null,
      "block_group": "2a6519eb2052435c929cea9d827700c7"
    },
    {
      "cell_type": "markdown",
      "source": "### Resúmenes tabulares de valores faltantes",
      "metadata": {
        "tags": [],
        "source_hash": "b623e53d",
        "execution_start": 1657058318190,
        "deepnote_app_coordinates": {
          "h": 5,
          "w": 12,
          "x": 0,
          "y": 247
        },
        "deepnote_to_be_reexecuted": false,
        "cell_id": "e905e3cf2464456da51c764a296435d7",
        "deepnote_cell_type": "markdown"
      },
      "block_group": "b62731d3b6cb4407af86bed72cb06617"
    },
    {
      "cell_type": "markdown",
      "source": "#### Variables / Columnas",
      "metadata": {
        "tags": [],
        "deepnote_app_coordinates": {
          "h": 5,
          "w": 12,
          "x": 0,
          "y": 253
        },
        "cell_id": "b818098a3fb14c11a9b73c5bb1c48d04",
        "deepnote_cell_type": "markdown"
      },
      "block_group": "f244c0a448914216be106b03ef7f4247"
    },
    {
      "cell_type": "markdown",
      "source": "##### Resumen por variable",
      "metadata": {
        "tags": [],
        "deepnote_app_coordinates": {
          "h": 5,
          "w": 12,
          "x": 0,
          "y": 259
        },
        "cell_id": "d70afddff6a74270930571d730a5ceeb",
        "deepnote_cell_type": "markdown"
      },
      "block_group": "524e74380f774e34a8b23bbee58e7318"
    },
    {
      "cell_type": "code",
      "source": "riskfactors_df.missing_variable_sumary()",
      "metadata": {
        "tags": [],
        "source_hash": null,
        "output_cleared": true,
        "execution_start": 1709748461625,
        "execution_millis": 27,
        "deepnote_to_be_reexecuted": true,
        "cell_id": "4c72d4dff8a04688b8ca17c07f8d7f0a",
        "deepnote_cell_type": "code"
      },
      "outputs": [],
      "outputs_reference": null,
      "execution_count": null,
      "block_group": "208c64e0e4f547e48590c31818960eff"
    },
    {
      "cell_type": "markdown",
      "source": "###### Tabulación del resumen por variable",
      "metadata": {
        "tags": [],
        "deepnote_app_coordinates": {
          "h": 5,
          "w": 12,
          "x": 0,
          "y": 271
        },
        "cell_id": "f13ff44a22be42f490e360923b50f494",
        "deepnote_cell_type": "markdown"
      },
      "block_group": "1144a6557a7c460396b11efbac790e94"
    },
    {
      "cell_type": "code",
      "source": "risk_factors_df.missing_variable_table()",
      "metadata": {
        "tags": [],
        "source_hash": null,
        "output_cleared": true,
        "execution_start": 1709748463234,
        "execution_millis": 30,
        "deepnote_to_be_reexecuted": true,
        "cell_id": "8eb770a40e5047e28563506900dae296",
        "deepnote_cell_type": "code"
      },
      "outputs": [],
      "outputs_reference": null,
      "execution_count": null,
      "block_group": "d5729c2e5e684002bb735631fff851ba"
    },
    {
      "cell_type": "markdown",
      "source": "#### Casos / Observaciones / Filas",
      "metadata": {
        "tags": [],
        "source_hash": "b623e53d",
        "execution_start": 1657058318225,
        "deepnote_app_coordinates": {
          "h": 5,
          "w": 12,
          "x": 0,
          "y": 283
        },
        "deepnote_to_be_reexecuted": false,
        "cell_id": "a74d9c42eae94613835550da78b2a847",
        "deepnote_cell_type": "markdown"
      },
      "block_group": "ac1ce862208c48d192a42793ccc4e1bb"
    },
    {
      "cell_type": "markdown",
      "source": "##### Resúmenes por caso",
      "metadata": {
        "tags": [],
        "source_hash": "b623e53d",
        "execution_start": 1657058318225,
        "deepnote_app_coordinates": {
          "h": 5,
          "w": 12,
          "x": 0,
          "y": 289
        },
        "deepnote_to_be_reexecuted": false,
        "cell_id": "2bc76d26ce6d4617a8354e502a7c5fef",
        "deepnote_cell_type": "markdown"
      },
      "block_group": "4cb49678bcf94c21bd88829621ec9f1d"
    },
    {
      "cell_type": "code",
      "source": "riskfactors_df.missing_case_sumary()",
      "metadata": {
        "tags": [],
        "source_hash": null,
        "output_cleared": true,
        "execution_start": 1709748467510,
        "execution_millis": 94,
        "deepnote_app_coordinates": {
          "h": 5,
          "w": 12,
          "x": 0,
          "y": 295
        },
        "deepnote_to_be_reexecuted": true,
        "cell_id": "61a94235f623419d8b8cb8ac8b1f7541",
        "deepnote_cell_type": "code"
      },
      "outputs": [],
      "outputs_reference": null,
      "execution_count": null,
      "block_group": "9e01191de0d64f80a31b84e7981c089f"
    },
    {
      "cell_type": "markdown",
      "source": "###### Tabulación del resumen por caso",
      "metadata": {
        "tags": [],
        "source_hash": "b623e53d",
        "execution_start": 1657058318230,
        "deepnote_app_coordinates": {
          "h": 5,
          "w": 12,
          "x": 0,
          "y": 301
        },
        "deepnote_to_be_reexecuted": false,
        "cell_id": "347c1b587f314a8aa8fcebce71ef3df5",
        "deepnote_cell_type": "markdown"
      },
      "block_group": "77eb6477918a49c087bc8e36d96a9dcf"
    },
    {
      "cell_type": "code",
      "source": "riskfactors_df.missing_case_table()",
      "metadata": {
        "tags": [],
        "source_hash": null,
        "output_cleared": true,
        "execution_start": 1709748507666,
        "execution_millis": 12,
        "deepnote_app_coordinates": {
          "h": 5,
          "w": 12,
          "x": 0,
          "y": 307
        },
        "deepnote_to_be_reexecuted": true,
        "cell_id": "7b91240473c844449a004fd30b1c8a57",
        "deepnote_cell_type": "code"
      },
      "outputs": [],
      "outputs_reference": null,
      "execution_count": null,
      "block_group": "7c1d34687a58412a821e5ca47425ecc5"
    },
    {
      "cell_type": "markdown",
      "source": "### Intervalos de valores faltantes",
      "metadata": {
        "tags": [],
        "source_hash": "b623e53d",
        "execution_start": 1657058318284,
        "deepnote_app_coordinates": {
          "h": 5,
          "w": 12,
          "x": 0,
          "y": 313
        },
        "deepnote_to_be_reexecuted": false,
        "cell_id": "3635d21b8e0a4594b61981699da19987",
        "deepnote_cell_type": "markdown"
      },
      "block_group": "27585c63ab28405da1d947146ca96eb0"
    },
    {
      "cell_type": "code",
      "source": "(\n\n    riskfactors_df\n\n    .missing\n    .missing_variable_span(\n        variable = \"weight_lbs\",\n        span_every=50\n    )\n)",
      "metadata": {
        "tags": [],
        "source_hash": null,
        "output_cleared": true,
        "execution_start": 1709748643686,
        "execution_millis": 118,
        "deepnote_app_coordinates": {
          "h": 5,
          "w": 12,
          "x": 0,
          "y": 319
        },
        "deepnote_to_be_reexecuted": true,
        "cell_id": "16335099f908463f8b987aab0c489a14",
        "deepnote_cell_type": "code"
      },
      "outputs": [],
      "outputs_reference": null,
      "execution_count": null,
      "block_group": "7cde3d5db0e84f72b748b460b4545b84"
    },
    {
      "cell_type": "markdown",
      "source": "### _Run length_ de valores faltantes",
      "metadata": {
        "tags": [],
        "deepnote_app_coordinates": {
          "h": 5,
          "w": 12,
          "x": 0,
          "y": 325
        },
        "cell_id": "f83fe8e05b6d4bf8b3f74ddd0c7857c7",
        "deepnote_cell_type": "markdown"
      },
      "block_group": "e17690876b7b48b9a59d5590e9da2104"
    },
    {
      "cell_type": "code",
      "source": "(\n    riskfactors_df\n    .missing\n    .missing_variable_run(\n        variable = \"weight_lbs\"\n    )\n)",
      "metadata": {
        "tags": [],
        "source_hash": null,
        "output_cleared": true,
        "execution_start": 1709748802982,
        "execution_millis": 28,
        "deepnote_app_coordinates": {
          "h": 5,
          "w": 12,
          "x": 0,
          "y": 331
        },
        "deepnote_to_be_reexecuted": true,
        "cell_id": "eac2d5dc4a8b485887eff5e214915dfc",
        "deepnote_cell_type": "code"
      },
      "outputs": [],
      "outputs_reference": null,
      "execution_count": null,
      "block_group": "375fd3dd5bc7487385a414ed3bcb9bfc"
    },
    {
      "cell_type": "markdown",
      "source": "## Visualización inicial de valores faltantes",
      "metadata": {
        "tags": [],
        "deepnote_app_coordinates": {
          "h": 5,
          "w": 12,
          "x": 0,
          "y": 337
        },
        "cell_id": "eb521c4def944cc1ac5b17af7c1ed1ea",
        "deepnote_cell_type": "markdown"
      },
      "block_group": "74f2c6b6f5824127877ce4ff854b345d"
    },
    {
      "cell_type": "markdown",
      "source": "### Variable",
      "metadata": {
        "tags": [],
        "deepnote_app_coordinates": {
          "h": 5,
          "w": 12,
          "x": 0,
          "y": 343
        },
        "cell_id": "f4be16c155304151a5921d338eba2b30",
        "deepnote_cell_type": "markdown"
      },
      "block_group": "a426c9169ed44dc4931d5353f86d3cb2"
    },
    {
      "cell_type": "code",
      "source": "riskfactors)df.missing_variable_plot()",
      "metadata": {
        "tags": [],
        "source_hash": null,
        "output_cleared": true,
        "execution_start": 1709749047423,
        "execution_millis": 46,
        "deepnote_app_coordinates": {
          "h": 5,
          "w": 12,
          "x": 0,
          "y": 349
        },
        "deepnote_to_be_reexecuted": true,
        "cell_id": "1c32b1bb90004206a5bd7d01537e38ab",
        "deepnote_cell_type": "code"
      },
      "outputs": [],
      "outputs_reference": null,
      "execution_count": null,
      "block_group": "7f64e90682624f98a57b1802049a5e19"
    },
    {
      "cell_type": "markdown",
      "source": "### Casos / Observaciones / Filas",
      "metadata": {
        "tags": [],
        "deepnote_app_coordinates": {
          "h": 5,
          "w": 12,
          "x": 0,
          "y": 355
        },
        "cell_id": "99e53880a9494160a3c5476e1457df33",
        "deepnote_cell_type": "markdown"
      },
      "block_group": "584cdff05bb64da784df4508545b3004"
    },
    {
      "cell_type": "code",
      "source": "riskfactors_df.missing_case_plot()",
      "metadata": {
        "tags": [],
        "source_hash": null,
        "output_cleared": true,
        "execution_start": 1709749127137,
        "execution_millis": 107,
        "deepnote_app_coordinates": {
          "h": 5,
          "w": 12,
          "x": 0,
          "y": 361
        },
        "deepnote_to_be_reexecuted": true,
        "cell_id": "0feaf0f21d484609abe1b8a718b92489",
        "deepnote_cell_type": "code"
      },
      "outputs": [],
      "outputs_reference": null,
      "execution_count": null,
      "block_group": "009e087355c643d29c78873726e05420"
    },
    {
      "cell_type": "code",
      "source": "(\n    riskfactors_df\n    .missing\n    .missing_variable_span_lot(\n        variable=\"weight_lbs\",\n        span_every=10,\n        rot = 0\n    )\n)",
      "metadata": {
        "tags": [],
        "source_hash": null,
        "output_cleared": true,
        "execution_start": 1709749287280,
        "execution_millis": 83,
        "deepnote_app_coordinates": {
          "h": 5,
          "w": 12,
          "x": 0,
          "y": 367
        },
        "deepnote_to_be_reexecuted": true,
        "cell_id": "d73d2b43ab334c8e870145fa3bae8630",
        "deepnote_cell_type": "code"
      },
      "outputs": [],
      "outputs_reference": null,
      "execution_count": null,
      "block_group": "6104c571b16e4e539b75c66c97fef5ab"
    },
    {
      "cell_type": "code",
      "source": "missingno.bar(df = riskfactors_df)",
      "metadata": {
        "tags": [],
        "source_hash": null,
        "output_cleared": true,
        "execution_start": 1709749426881,
        "execution_millis": 663,
        "deepnote_app_coordinates": {
          "h": 5,
          "w": 12,
          "x": 0,
          "y": 373
        },
        "deepnote_to_be_reexecuted": true,
        "cell_id": "0afbf63d6c6945448a4c3a2a93b54330",
        "deepnote_cell_type": "code"
      },
      "outputs": [],
      "outputs_reference": null,
      "execution_count": null,
      "block_group": "719871f5f029480d9bc6aeb28c75d74b"
    },
    {
      "cell_type": "code",
      "source": "missingno.matrix(df = riskfactors_df)",
      "metadata": {
        "tags": [],
        "source_hash": null,
        "output_cleared": true,
        "execution_start": 1709749466436,
        "execution_millis": 110,
        "deepnote_app_coordinates": {
          "h": 5,
          "w": 12,
          "x": 0,
          "y": 379
        },
        "deepnote_to_be_reexecuted": true,
        "cell_id": "e41ed98e345a47ec8ac7a250d6532ba7",
        "deepnote_cell_type": "code"
      },
      "outputs": [],
      "outputs_reference": null,
      "execution_count": null,
      "block_group": "28da5adbacf94b6dab89bae126c4f412"
    },
    {
      "cell_type": "code",
      "source": "(\n    riskfactors_df\n    .missing\n    .missing_upsetplot(\n        variables=\"pregnant\", \"weight_lbs\", \"smoke_stop\",\n        element_size= 60\n    )\n)",
      "metadata": {
        "tags": [],
        "source_hash": null,
        "execution_start": 1709749775182,
        "execution_millis": 54,
        "deepnote_app_coordinates": {
          "h": 5,
          "w": 12,
          "x": 0,
          "y": 385
        },
        "deepnote_to_be_reexecuted": true,
        "cell_id": "a0cd76f8fa7f49c992a974cc3e0e7717",
        "deepnote_cell_type": "code"
      },
      "outputs": [
        {
          "output_type": "error",
          "ename": "SyntaxError",
          "evalue": "positional argument follows keyword argument (1571439064.py, line 7)",
          "traceback": [
            "\u001b[0;36m  Cell \u001b[0;32mIn [39], line 7\u001b[0;36m\u001b[0m\n\u001b[0;31m    )\u001b[0m\n\u001b[0m    ^\u001b[0m\n\u001b[0;31mSyntaxError\u001b[0m\u001b[0;31m:\u001b[0m positional argument follows keyword argument\n"
          ]
        }
      ],
      "outputs_reference": null,
      "execution_count": null,
      "block_group": "98ca2ba4b8ff457880192269e813004f"
    },
    {
      "cell_type": "code",
      "source": "missingno.heatmap(df = riskfactors_df)",
      "metadata": {
        "source_hash": null,
        "execution_start": 1709749692518,
        "execution_millis": 545,
        "deepnote_to_be_reexecuted": true,
        "cell_id": "89cfcecd69bb451d9f3fe0e62e0f348a",
        "deepnote_cell_type": "code"
      },
      "outputs": [
        {
          "name": "stderr",
          "text": "/shared-libs/python3.9/py/lib/python3.9/site-packages/seaborn/matrix.py:306: MatplotlibDeprecationWarning: Auto-removal of grids by pcolor() and pcolormesh() is deprecated since 3.5 and will be removed two minor releases later; please call grid(False) first.\n  mesh = ax.pcolormesh(self.plot_data, cmap=self.cmap, **kws)\n/shared-libs/python3.9/py/lib/python3.9/site-packages/seaborn/matrix.py:316: MatplotlibDeprecationWarning: Auto-removal of grids by pcolor() and pcolormesh() is deprecated since 3.5 and will be removed two minor releases later; please call grid(False) first.\n  cb = ax.figure.colorbar(mesh, cax, ax, **self.cbar_kws)\n",
          "output_type": "stream"
        },
        {
          "output_type": "execute_result",
          "execution_count": 37,
          "data": {
            "text/plain": "<AxesSubplot:>"
          },
          "metadata": {}
        },
        {
          "data": {
            "text/plain": "<Figure size 2000x1200 with 2 Axes>",
            "image/png": "[encoded data removed]"
          },
          "metadata": {
            "image/png": {
              "width": 1626,
              "height": 1098
            }
          },
          "output_type": "display_data"
        }
      ],
      "outputs_reference": null,
      "execution_count": null,
      "block_group": "b4ef2efd09c547799fcc8371af50a44d"
    },
    {
      "cell_type": "markdown",
      "source": "## Codificación de valores faltantes",
      "metadata": {
        "tags": [],
        "deepnote_app_coordinates": {
          "h": 5,
          "w": 12,
          "x": 0,
          "y": 391
        },
        "cell_id": "010689de9225409c8a8bf1d75cf4e1af",
        "deepnote_cell_type": "markdown"
      },
      "block_group": "b15b0ab95cb94315a71b95a4f77d15e7"
    },
    {
      "cell_type": "markdown",
      "source": "<div class=\"alert alert-warning\", role=\"alert\">\n    <b style=\"font-size: 1.5em;\">🚧 Advertencia</b>\n    <p>\n    Al igual que cada persona es una nueva puerta a un mundo diferente, los <b>valores faltantes</b> existen en diferentes formas y colores. Al trabajar con valores faltantes será crítico entender sus distintas representaciones. A pesar de que el conjunto de datos de trabajo pareciera que no contiene valores faltantes, deberás ser capaz de ir más allá de lo observado a simple vista para remover el manto tras el cual se esconde lo desconocido.\n    </p>\n</div>",
      "metadata": {
        "tags": [],
        "deepnote_app_coordinates": {
          "h": 5,
          "w": 12,
          "x": 0,
          "y": 0
        },
        "cell_id": "6354894fae8649778036c2d743711714",
        "deepnote_cell_type": "markdown"
      },
      "block_group": "131ca9c7298d43cba1614429aed38069"
    },
    {
      "cell_type": "markdown",
      "source": "### Valores comúnmente asociados a valores faltantes",
      "metadata": {
        "tags": [],
        "deepnote_app_coordinates": {
          "h": 5,
          "w": 12,
          "x": 0,
          "y": 403
        },
        "cell_id": "14039aabbebf476c94bf93e7188e5cdf",
        "deepnote_cell_type": "markdown"
      },
      "block_group": "1a359d96723b4e07957504a64d8dd27e"
    },
    {
      "cell_type": "markdown",
      "source": "#### Cadenas de texto",
      "metadata": {
        "tags": [],
        "deepnote_app_coordinates": {
          "h": 5,
          "w": 12,
          "x": 0,
          "y": 409
        },
        "cell_id": "31bbad41e6734acaabee02ce90d36695",
        "deepnote_cell_type": "markdown"
      },
      "block_group": "dd4cfeaa3271462297b59a6091e1be05"
    },
    {
      "cell_type": "code",
      "source": "common_na_strings = (\n    \"missing\",\n    \"NA\",\n    \"N A\",\n    \"N/A\",\n    \"#N/A\",\n    \"NA \",\n    \" NA\",\n    \"N /A\",\n    \"N / A\",\n    \" N / A\",\n    \"N / A \",\n    \"na\",\n    \"n a\",\n    \"n/a\",\n    \"na \",\n    \" na\",\n    \"n /a\",\n    \"n / a\",\n    \" a / a\",\n    \"n / a \",\n    \"NULL\",\n    \"null\",\n    \"\",\n    \"?\",\n    \"*\",\n    \".\",\n)",
      "metadata": {
        "tags": [],
        "source_hash": null,
        "output_cleared": true,
        "execution_start": 1709828716785,
        "execution_millis": 110,
        "deepnote_app_coordinates": {
          "h": 5,
          "w": 12,
          "x": 0,
          "y": 415
        },
        "deepnote_to_be_reexecuted": true,
        "cell_id": "faf0a7a5a75c4dbd86f7fe0ff9e4579e",
        "deepnote_cell_type": "code"
      },
      "outputs": [],
      "outputs_reference": null,
      "execution_count": null,
      "block_group": "0710edd968064c39bf983736da8f20ee"
    },
    {
      "cell_type": "markdown",
      "source": "#### Números",
      "metadata": {
        "tags": [],
        "deepnote_app_coordinates": {
          "h": 5,
          "w": 12,
          "x": 0,
          "y": 421
        },
        "cell_id": "e66d50279536424f8c781a0e31c9fcd9",
        "deepnote_cell_type": "markdown"
      },
      "block_group": "b1db40e05773434494878c44a61fe22b"
    },
    {
      "cell_type": "code",
      "source": "common_na_numbers = (-9, -99, -999, -9999, 9999, 66, 77, 88, -1)",
      "metadata": {
        "tags": [],
        "source_hash": null,
        "output_cleared": true,
        "execution_start": 1709828721196,
        "execution_millis": 63,
        "deepnote_app_coordinates": {
          "h": 5,
          "w": 12,
          "x": 0,
          "y": 427
        },
        "deepnote_to_be_reexecuted": true,
        "cell_id": "fd85aed14e7b4b52aa107ab49a781179",
        "deepnote_cell_type": "code"
      },
      "outputs": [],
      "outputs_reference": null,
      "execution_count": null,
      "block_group": "ab1f258819d7484ab708a08928f27adf"
    },
    {
      "cell_type": "markdown",
      "source": "### ¿Cómo encontrar los valores comúnmente asociados a valores faltantes?",
      "metadata": {
        "tags": [],
        "deepnote_app_coordinates": {
          "h": 5,
          "w": 12,
          "x": 0,
          "y": 433
        },
        "cell_id": "dac2fa4b929d4fad961db1bcd2fa6a8d",
        "deepnote_cell_type": "markdown"
      },
      "block_group": "59b2bad5844a4fe380cf53081d57cf25"
    },
    {
      "cell_type": "code",
      "source": "missing_data_example_df = pd.DataFrame.from_dict(\n    dict(\n        x = [1, 3, \"NA\", -99, -98, -99],\n        y = [\"A\", \"N/A\", \"NA\", \"E\", \"F\", \"G\"],\n        z = [-100, -99, -98, -101, -1, -1]\n    )\n)\n\nmissing_data_example_df",
      "metadata": {
        "tags": [],
        "source_hash": null,
        "output_cleared": true,
        "execution_start": 1709828724505,
        "execution_millis": 66,
        "deepnote_app_coordinates": {
          "h": 5,
          "w": 12,
          "x": 0,
          "y": 439
        },
        "deepnote_to_be_reexecuted": true,
        "cell_id": "f35c44c6bf59450f9b7a95e01d21efa1",
        "deepnote_cell_type": "code"
      },
      "outputs": [],
      "outputs_reference": null,
      "execution_count": null,
      "block_group": "0b2afe9d10e84d35922a7e28780ab238"
    },
    {
      "cell_type": "code",
      "source": "missing_data_example_df.missing.number_missing()",
      "metadata": {
        "tags": [],
        "source_hash": null,
        "output_cleared": true,
        "execution_start": 1709828778187,
        "execution_millis": 1574,
        "deepnote_app_coordinates": {
          "h": 5,
          "w": 12,
          "x": 0,
          "y": 445
        },
        "deepnote_to_be_reexecuted": true,
        "cell_id": "4af03788203645cb9098dfac12b97bbb",
        "deepnote_cell_type": "code"
      },
      "outputs": [],
      "outputs_reference": null,
      "execution_count": null,
      "block_group": "ffe78fb4c1a4475ebf653220c3764227"
    },
    {
      "cell_type": "markdown",
      "source": "#### Revisar tipos de datos",
      "metadata": {
        "tags": [],
        "deepnote_app_coordinates": {
          "h": 5,
          "w": 12,
          "x": 0,
          "y": 451
        },
        "cell_id": "31543c324918471e9deff799e9a6e664",
        "deepnote_cell_type": "markdown"
      },
      "block_group": "8d58958f025a4f78a5a538c65e0b6e89"
    },
    {
      "cell_type": "code",
      "source": "missing_data_example_df.dtypes",
      "metadata": {
        "tags": [],
        "source_hash": null,
        "output_cleared": true,
        "execution_start": 1709828823305,
        "execution_millis": 50,
        "deepnote_app_coordinates": {
          "h": 5,
          "w": 12,
          "x": 0,
          "y": 457
        },
        "deepnote_to_be_reexecuted": true,
        "cell_id": "aad455a8c7214642af04ef34e774f1ae",
        "deepnote_cell_type": "code"
      },
      "outputs": [],
      "outputs_reference": null,
      "execution_count": null,
      "block_group": "10655c3d3e9640aea49313f170629b30"
    },
    {
      "cell_type": "markdown",
      "source": "#### Revisar valores únicos de los datos",
      "metadata": {
        "tags": [],
        "deepnote_app_coordinates": {
          "h": 5,
          "w": 12,
          "x": 0,
          "y": 463
        },
        "cell_id": "4553556c5f7c47f88ed4ca0df8793f96",
        "deepnote_cell_type": "markdown"
      },
      "block_group": "7bfa613272e84d46824524c5ac32c962"
    },
    {
      "cell_type": "code",
      "source": "missing_data_example_df.x.unique()",
      "metadata": {
        "tags": [],
        "source_hash": null,
        "output_cleared": true,
        "execution_start": 1709828931732,
        "execution_millis": 54,
        "deepnote_app_coordinates": {
          "h": 5,
          "w": 12,
          "x": 0,
          "y": 469
        },
        "deepnote_to_be_reexecuted": true,
        "cell_id": "3114ff27e17341e7a60aa8263d74636e",
        "deepnote_cell_type": "code"
      },
      "outputs": [],
      "outputs_reference": null,
      "execution_count": null,
      "block_group": "09b86715a9a3478f9c910345c703d4f8"
    },
    {
      "cell_type": "code",
      "source": "(\n    missing_data_example_df\n    .select_dtypes(object)\n    .apply(pd.unique)\n)",
      "metadata": {
        "tags": [],
        "source_hash": null,
        "output_cleared": true,
        "execution_start": 1709829050236,
        "execution_millis": 164,
        "deepnote_app_coordinates": {
          "h": 5,
          "w": 12,
          "x": 0,
          "y": 475
        },
        "deepnote_to_be_reexecuted": true,
        "cell_id": "7ca56e4fb27e4006a4707a1e63203d04",
        "deepnote_cell_type": "code"
      },
      "outputs": [],
      "outputs_reference": null,
      "execution_count": null,
      "block_group": "7f3467f3191d4f75ae1a0a67a4547f5b"
    },
    {
      "cell_type": "markdown",
      "source": "### Sustituyendo valores comúnmente asociados a valores faltantes",
      "metadata": {
        "tags": [],
        "deepnote_app_coordinates": {
          "h": 5,
          "w": 12,
          "x": 0,
          "y": 481
        },
        "cell_id": "a9ba9f1e8a4a4324b5850a6bd192a042",
        "deepnote_cell_type": "markdown"
      },
      "block_group": "b601ef81bdfa457ba629edffb7fe2cc0"
    },
    {
      "cell_type": "markdown",
      "source": "#### Sustitución desde la lectura de datos",
      "metadata": {
        "tags": [],
        "deepnote_app_coordinates": {
          "h": 5,
          "w": 12,
          "x": 0,
          "y": 487
        },
        "cell_id": "d870c0b1f8564cb2a9e1b4cede788c20",
        "deepnote_cell_type": "markdown"
      },
      "block_group": "85f34df7a6b24cf6a43a7cc7409d7bc2"
    },
    {
      "cell_type": "code",
      "source": "pd.read_csv(\n    /data/missing_data_encoding_example.csv,\n    na_filter=True,\n    na_values=[-99, -1]\n)",
      "metadata": {
        "tags": [],
        "source_hash": null,
        "output_cleared": true,
        "execution_start": 1709829175580,
        "execution_millis": 67,
        "deepnote_app_coordinates": {
          "h": 5,
          "w": 12,
          "x": 0,
          "y": 493
        },
        "deepnote_to_be_reexecuted": true,
        "cell_id": "fe6ff27c0ff44685b5a95fe1e8a55b58",
        "deepnote_cell_type": "code"
      },
      "outputs": [],
      "outputs_reference": null,
      "execution_count": null,
      "block_group": "0d606b11de644267b0cfd1a458d53267"
    },
    {
      "cell_type": "markdown",
      "source": "#### Sustitución global",
      "metadata": {
        "tags": [],
        "deepnote_app_coordinates": {
          "h": 5,
          "w": 12,
          "x": 0,
          "y": 499
        },
        "cell_id": "5a489184dc2a46549557cbdb6fdc90c3",
        "deepnote_cell_type": "markdown"
      },
      "block_group": "95f97530c59a44b080ea385798bf9e64"
    },
    {
      "cell_type": "code",
      "source": "(\n    missing_data_example_df\n    .replace()\n     to replace=[99, \"NA\"],\n     value = np.nan\n)",
      "metadata": {
        "tags": [],
        "source_hash": null,
        "output_cleared": true,
        "execution_start": 1709829268394,
        "execution_millis": 53,
        "deepnote_app_coordinates": {
          "h": 5,
          "w": 12,
          "x": 0,
          "y": 505
        },
        "deepnote_to_be_reexecuted": true,
        "cell_id": "22d780bcb93647268897ab986000cee5",
        "deepnote_cell_type": "code"
      },
      "outputs": [],
      "outputs_reference": null,
      "execution_count": null,
      "block_group": "cc28d030ecc04a15bd1d4e29f698a8ad"
    },
    {
      "cell_type": "markdown",
      "source": "#### Sustitución dirigida",
      "metadata": {
        "tags": [],
        "deepnote_app_coordinates": {
          "h": 5,
          "w": 12,
          "x": 0,
          "y": 511
        },
        "cell_id": "1b813326279846ccaeb3f0d95bc9ded0",
        "deepnote_cell_type": "markdown"
      },
      "block_group": "cd6ec8c24c3544d0ac22b057a91d2d11"
    },
    {
      "cell_type": "code",
      "source": "(\n    missing_data_example_df\n    .replace(\n        to_replace = {\n            \"x\": {\n                -99: np.nan\n            }\n        }\n    )\n)",
      "metadata": {
        "tags": [],
        "source_hash": null,
        "output_cleared": true,
        "execution_start": 1709829374555,
        "execution_millis": 132,
        "deepnote_app_coordinates": {
          "h": 5,
          "w": 12,
          "x": 0,
          "y": 517
        },
        "deepnote_to_be_reexecuted": true,
        "cell_id": "f0aa6d6dba5b4827ad88dec616dc552b",
        "deepnote_cell_type": "code"
      },
      "outputs": [],
      "outputs_reference": null,
      "execution_count": null,
      "block_group": "40018e85dd254959be79cf8dc216cc54"
    },
    {
      "cell_type": "markdown",
      "source": "## Conversión de valores faltantes implícitos a explícitos",
      "metadata": {
        "tags": [],
        "deepnote_app_coordinates": {
          "h": 5,
          "w": 12,
          "x": 0,
          "y": 523
        },
        "cell_id": "15afdc5ccff941a4b6972b57b8b45776",
        "deepnote_cell_type": "markdown"
      },
      "block_group": "eb9c03cd591c43d1a8d7e1f5ae73bc6a"
    },
    {
      "cell_type": "markdown",
      "source": "<div class=\"alert alert-warning\", role=\"alert\">\n    <b style=\"font-size: 1.5em;\">🚧 Advertencia</b>\n    <br>\n    <br>\n    <p>\n        <i>\n        \"<b>Implícito</b> se refiere a todo aquello que se entiende que está incluido\n        pero sin ser expresado de forma directa o explícitamente.\"\n        </i>\n    </p>\n    <p>\n    Un <code>valor faltante implícito</code> indica que el valor faltante <b>debería estar incluido</b>\n    en el conjunto de datos del análisis, <b>sin que éste lo diga</b> o lo <b>especifique</b>.\n    Por lo general, son valores que podemos encontrar al pivotar nuestros datos\n    o contabilizar el número de apariciones de combinaciones de las variables de estudio.\n    </p>\n</div>",
      "metadata": {
        "tags": [],
        "source_hash": "978d2856",
        "execution_start": 1657070588973,
        "execution_millis": 2,
        "deepnote_app_coordinates": {
          "h": 5,
          "w": 12,
          "x": 0,
          "y": 529
        },
        "deepnote_to_be_reexecuted": false,
        "cell_id": "5325ae56e47a4b218abb5cd5851b710a",
        "deepnote_cell_type": "markdown"
      },
      "block_group": "fcdeea22dbc5464ab4305ceaa171914a"
    },
    {
      "cell_type": "code",
      "source": "implicit_to_explicit_df = pd.DataFrame.from_dict(\n    data={\n        \"name\": [\"lynn\", \"lynn\", \"lynn\", \"zelda\"],\n        \"time\": [\"morning\", \"afternoon\", \"night\", \"morning\"],\n        \"value\": [350, 310, np.nan, 320]\n    }\n)\n\nimplicit_to_explicit_df",
      "metadata": {
        "tags": [],
        "source_hash": null,
        "output_cleared": true,
        "execution_start": 1659559217644,
        "execution_millis": 764,
        "deepnote_app_coordinates": {
          "h": 5,
          "w": 12,
          "x": 0,
          "y": 535
        },
        "deepnote_to_be_reexecuted": true,
        "cell_id": "74007fe9114c47b18eeaa88fc04c106d",
        "deepnote_cell_type": "code"
      },
      "outputs": [],
      "outputs_reference": null,
      "execution_count": null,
      "block_group": "7bfa972b5c074f0ab91fd45bfa3c1898"
    },
    {
      "cell_type": "markdown",
      "source": "### Estrategias para la identificación de valores faltantes implícitos",
      "metadata": {
        "tags": [],
        "deepnote_app_coordinates": {
          "h": 5,
          "w": 12,
          "x": 0,
          "y": 541
        },
        "cell_id": "2d82099440714eb0ae8000366a32556c",
        "deepnote_cell_type": "markdown"
      },
      "block_group": "1a850b747c1f4bf28dfa0e8c6b24a37d"
    },
    {
      "cell_type": "markdown",
      "source": "#### Pivotar la tabla de datos",
      "metadata": {
        "tags": [],
        "deepnote_app_coordinates": {
          "h": 5,
          "w": 12,
          "x": 0,
          "y": 547
        },
        "cell_id": "00cff9876674461aa73e29b6f0ec57f5",
        "deepnote_cell_type": "markdown"
      },
      "block_group": "e7daa15deb8f4316bf909c10778214bd"
    },
    {
      "cell_type": "code",
      "source": "(\n    implicit_to_explicit_df\n    .pivot_wider(\n        index = \"name\",\n        names_from = \"time\",\n        values_from = \"value\"\n    )\n)",
      "metadata": {
        "tags": [],
        "source_hash": null,
        "output_cleared": true,
        "execution_start": 1709829819388,
        "execution_millis": 91,
        "deepnote_app_coordinates": {
          "h": 5,
          "w": 12,
          "x": 0,
          "y": 553
        },
        "deepnote_to_be_reexecuted": true,
        "cell_id": "3a02ea1094034d739dcd10caccdc7101",
        "deepnote_cell_type": "code"
      },
      "outputs": [],
      "outputs_reference": null,
      "execution_count": null,
      "block_group": "2d8b19ea0bde42698f4ed46b908af877"
    },
    {
      "cell_type": "markdown",
      "source": "#### Cuantificar ocurrencias de n-tuplas",
      "metadata": {
        "tags": [],
        "deepnote_app_coordinates": {
          "h": 5,
          "w": 12,
          "x": 0,
          "y": 559
        },
        "cell_id": "18ed855cc8af40f4b5eb8216b257c20a",
        "deepnote_cell_type": "markdown"
      },
      "block_group": "aaca9cb595904e44858b4f6b44566a80"
    },
    {
      "cell_type": "code",
      "source": "(\n    implicit_to_explicit_df\n    .value_counts(\n        subset=[\"name\"]\n    )\n    reset_index(name=\"n\")\n    .querry(\"n < 3\")\n)",
      "metadata": {
        "tags": [],
        "source_hash": null,
        "output_cleared": true,
        "execution_start": 1709830008501,
        "execution_millis": 92,
        "deepnote_app_coordinates": {
          "h": 5,
          "w": 12,
          "x": 0,
          "y": 565
        },
        "deepnote_to_be_reexecuted": true,
        "cell_id": "e0bc95212fae45b494af94a0a04b3890",
        "deepnote_cell_type": "code"
      },
      "outputs": [],
      "outputs_reference": null,
      "execution_count": null,
      "block_group": "91f8262162d14cd497d0e96e5b9aae04"
    },
    {
      "cell_type": "markdown",
      "source": "### Exponer filas faltantes implícitas a explícitas",
      "metadata": {
        "tags": [],
        "deepnote_app_coordinates": {
          "h": 5,
          "w": 12,
          "x": 0,
          "y": 571
        },
        "cell_id": "4387902bea16464198117d9d1a5f505b",
        "deepnote_cell_type": "markdown"
      },
      "block_group": "23c7beab16e54abebc10d3f58ad39aa0"
    },
    {
      "cell_type": "markdown",
      "source": "<div class=\"alert alert-info\">\n    <b style=\"font-size: 1.5em;\">📘 Información</b>\n    <p>\n       <a href=\"https://pyjanitor-devs.github.io/pyjanitor/api/functions/#janitor.functions.complete.complete\", class=\"alert-link\"><code>janitor.complete()</code></a> está modelada a partir de la función <a href=\"https://tidyr.tidyverse.org/reference/complete.html\", class=\"alert-link\"><code>complete()</code></a> del paquete <a href=\"https://tidyr.tidyverse.org/index.html\", class=\"alert-link\"><code>tidyr</code></a> y es un <i>wrapper</i> alrededor de <a href=\"https://pyjanitordevs.github.io/pyjanitor/api/functions/#janitor.functions.expand_grid.expand_grid\", class=\"alert-link\"><code>janitor.expand_grid()</code></a>, <a href=\"https://pandas.pydata.org/docs/reference/api/pandas.DataFrame.merge.html\", class=\"alert-link\"><code>pd.merge()</code></a> y <a href=\"https://pandas.pydata.org/docs/reference/api/pandas.DataFrame.merge.html\", class=\"alert-link\"><code>pd.fillna()</code></a>. En cierto modo, es lo contrario de <a href=\"https://pandas.pydata.org/docs/reference/api/pandas.DataFrame.dropna.html\", class=\"alert-link\"><code>pd.dropna()</code></a>, ya que expone implícitamente las filas que faltan.\n    </p>\n    <p>\n    Son posibles combinaciones de nombres de columnas o una lista/tupla de nombres de columnas, o incluso un  diccionario de nombres de columna y nuevos valores.\n    </p>\n    <p>\n    Las columnas <a href=\"https://pandas.pydata.org/docs/user_guide/advanced.html\"><code>MultiIndex</code></a> no son complatibles.\n    </p>\n</div>",
      "metadata": {
        "tags": [],
        "deepnote_app_coordinates": {
          "h": 5,
          "w": 12,
          "x": 0,
          "y": 661
        },
        "cell_id": "211a3fef3b7a461cb8fe9138ecdda5e3",
        "deepnote_cell_type": "markdown"
      },
      "block_group": "9bd2eb86fc134f25b2f5eb01d2d6bb47"
    },
    {
      "cell_type": "markdown",
      "source": "#### Exponer n-tuplas de valores faltantes\n\nEjemplo, encontrar los pares faltantes de `name` y `time`.",
      "metadata": {
        "tags": [],
        "deepnote_app_coordinates": {
          "h": 5,
          "w": 12,
          "x": 0,
          "y": 0
        },
        "cell_id": "d663ee426c2745dda997623cefb9c18c",
        "deepnote_cell_type": "markdown"
      },
      "block_group": "9feb2ca918aa45bb8ee4a67b114fc3ef"
    },
    {
      "cell_type": "code",
      "source": "(\n    implicit_to_explicit_df\n    # janitor\n    .complete(\n        names = [\"name\", \"time\"],\n        fill_value = 0\n    )\n)",
      "metadata": {
        "tags": [],
        "source_hash": null,
        "output_cleared": true,
        "execution_start": 1709830277145,
        "execution_millis": 67,
        "deepnote_to_be_reexecuted": true,
        "cell_id": "aa59b2a3124d4d86bcf4dfc867c2ff8e",
        "deepnote_cell_type": "code"
      },
      "outputs": [],
      "outputs_reference": null,
      "execution_count": null,
      "block_group": "ea97ccb476c8491085b6f8ef4089899a"
    },
    {
      "cell_type": "markdown",
      "source": "#### Limitar la exposición de n-tuplas de valores faltantes",
      "metadata": {
        "tags": [],
        "deepnote_app_coordinates": {
          "h": 5,
          "w": 12,
          "x": 0,
          "y": 577
        },
        "cell_id": "62d2d9cd840b4684a233650e77a25fb1",
        "deepnote_cell_type": "markdown"
      },
      "block_group": "b5145b65318f4c97bb90b9f0320a6ce9"
    },
    {
      "cell_type": "code",
      "source": "(\n    implicit_to_explicit_df\n    .complete(\n        {\"name\": [\"lynn\", \"zelda\"]]},\n        {\"time\": [\"morning\", \"afternoon\"]},\n        sort=True\n    )\n)",
      "metadata": {
        "tags": [],
        "source_hash": null,
        "output_cleared": true,
        "execution_start": 1709830382208,
        "execution_millis": 26,
        "deepnote_to_be_reexecuted": true,
        "cell_id": "86b83a520ab9488987b38982e9a7298e",
        "deepnote_cell_type": "code"
      },
      "outputs": [],
      "outputs_reference": null,
      "execution_count": null,
      "block_group": "21ccea05b45f4836abd7ad6ad4224b69"
    },
    {
      "cell_type": "markdown",
      "source": "#### Rellenar los valores faltantes",
      "metadata": {
        "tags": [],
        "deepnote_app_coordinates": {
          "h": 5,
          "w": 12,
          "x": 0,
          "y": 0
        },
        "cell_id": "c2a8990058da4b43a1adb2e4d157fe82",
        "deepnote_cell_type": "markdown"
      },
      "block_group": "a4fc6cc2201e4a4cb0fd7386ed8e7dfb"
    },
    {
      "cell_type": "code",
      "source": "(\n    implicit_to_explicit_df\n    .complete(\n        \"name\", \n        \"time\",\n        fill_value = np.nan\n    )\n)",
      "metadata": {
        "tags": [],
        "source_hash": null,
        "output_cleared": true,
        "execution_start": 1709830491049,
        "execution_millis": 102,
        "deepnote_app_coordinates": {
          "h": 5,
          "w": 12,
          "x": 0,
          "y": 0
        },
        "deepnote_to_be_reexecuted": true,
        "cell_id": "cfd0cca92a044ba0aaf29406fafea7b4",
        "deepnote_cell_type": "code"
      },
      "outputs": [],
      "outputs_reference": null,
      "execution_count": null,
      "block_group": "e276db69c12746268a04b1c7a24345e2"
    },
    {
      "cell_type": "markdown",
      "source": "#### Limitar el rellenado de valores faltantes implícitos",
      "metadata": {
        "tags": [],
        "deepnote_app_coordinates": {
          "h": 5,
          "w": 12,
          "x": 0,
          "y": 589
        },
        "cell_id": "11177fe0e4fc41fdb0a20a9f2ee075da",
        "deepnote_cell_type": "markdown"
      },
      "block_group": "fde6911db2e14f499d2c5d35885b8145"
    },
    {
      "cell_type": "code",
      "source": "(\n    implicit_to_explicit_df\n    .complete(\n        \"name\",\n        \"time\",\n        fill_value = 0,\n        explicit = False)\n)",
      "metadata": {
        "tags": [],
        "source_hash": null,
        "output_cleared": true,
        "execution_start": 1659559217897,
        "execution_millis": 548,
        "deepnote_app_coordinates": {
          "h": 5,
          "w": 12,
          "x": 0,
          "y": 595
        },
        "deepnote_to_be_reexecuted": true,
        "cell_id": "eca126f590954a37a4e4d5e6d85faa94",
        "deepnote_cell_type": "code"
      },
      "outputs": [],
      "outputs_reference": null,
      "execution_count": null,
      "block_group": "972d74bebd4f4d07b07968856f967304"
    },
    {
      "cell_type": "markdown",
      "source": "## Tipos de valores faltantes",
      "metadata": {
        "tags": [],
        "deepnote_app_coordinates": {
          "h": 5,
          "w": 12,
          "x": 0,
          "y": 601
        },
        "cell_id": "8c2be7ddb10b4a699b77a75e295bea11",
        "deepnote_cell_type": "markdown"
      },
      "block_group": "9fe6b2121f4c412db91beeab035c0e01"
    },
    {
      "cell_type": "code",
      "source": "diabetes_df.missing_variable_plot()",
      "metadata": {
        "tags": [],
        "source_hash": null,
        "output_cleared": true,
        "execution_start": 1709831199983,
        "execution_millis": 149,
        "deepnote_app_coordinates": {
          "h": 5,
          "w": 12,
          "x": 0,
          "y": 0
        },
        "deepnote_to_be_reexecuted": true,
        "cell_id": "d1d2893f0cdf4636ba2144d89a46e2e2",
        "deepnote_cell_type": "code"
      },
      "outputs": [],
      "outputs_reference": null,
      "execution_count": null,
      "block_group": "853756cec4d04e24ab36c514aabe1388"
    },
    {
      "cell_type": "code",
      "source": "diabetes_df[diabetes_df.columns[1:6]] = diabetes_df[diabetes_df.columns[1:6]].replace(0, np.nan)\ndiabetes_df.missing_variable_plot()",
      "metadata": {
        "tags": [],
        "source_hash": null,
        "output_cleared": true,
        "execution_start": 1709831365037,
        "execution_millis": 160,
        "deepnote_app_coordinates": {
          "h": 5,
          "w": 12,
          "x": 0,
          "y": 0
        },
        "deepnote_to_be_reexecuted": true,
        "cell_id": "6c69bf93d04a41a08e5560174bf8334d",
        "deepnote_cell_type": "code"
      },
      "outputs": [],
      "outputs_reference": null,
      "execution_count": null,
      "block_group": "6cb4ffa5fe0e4da4a2fb25a4002d5769"
    },
    {
      "cell_type": "markdown",
      "source": "### _Missing Completely At Random_ (MCAR)",
      "metadata": {
        "tags": [],
        "deepnote_app_coordinates": {
          "h": 5,
          "w": 12,
          "x": 0,
          "y": 607
        },
        "cell_id": "19f62e2dd7594a3983a6419f01b9c702",
        "deepnote_cell_type": "markdown"
      },
      "block_group": "5ce5fc2c9cf14f129b86fafe2d1cb9a9"
    },
    {
      "cell_type": "code",
      "source": "(\n    diabetes_df\n    .missing.sort_variables_by_missingness()\n    .pipe(missingno.matrix)\n)",
      "metadata": {
        "tags": [],
        "source_hash": null,
        "output_cleared": true,
        "execution_start": 1709831493830,
        "execution_millis": 70,
        "deepnote_app_coordinates": {
          "h": 5,
          "w": 12,
          "x": 0,
          "y": 0
        },
        "deepnote_to_be_reexecuted": true,
        "cell_id": "6c65ba6eb336410d87338d59440557b4",
        "deepnote_cell_type": "code"
      },
      "outputs": [],
      "outputs_reference": null,
      "execution_count": null,
      "block_group": "f87e43606272494597d0637500985710"
    },
    {
      "cell_type": "markdown",
      "source": "### _Missing At Random_ (MAR)",
      "metadata": {
        "tags": [],
        "deepnote_app_coordinates": {
          "h": 5,
          "w": 12,
          "x": 0,
          "y": 0
        },
        "cell_id": "55f8f66e61f148038d94ce447351f8c3",
        "deepnote_cell_type": "markdown"
      },
      "block_group": "412415e26b054eb88c4f335501252856"
    },
    {
      "cell_type": "code",
      "source": "(\n    diabetes_df\n    .missing.sort_variables_by_missingness()\n    .sort_values(by=\"blood_pressure\")\n    .pipe(missingno.matrix)\n)",
      "metadata": {
        "tags": [],
        "source_hash": null,
        "output_cleared": true,
        "execution_start": 1709831627563,
        "execution_millis": 107,
        "deepnote_app_coordinates": {
          "h": 5,
          "w": 12,
          "x": 0,
          "y": 0
        },
        "deepnote_to_be_reexecuted": true,
        "cell_id": "2c376da9d54e4469aa5fc39f47611274",
        "deepnote_cell_type": "code"
      },
      "outputs": [],
      "outputs_reference": null,
      "execution_count": null,
      "block_group": "4944602ac3584374aa8dfe6aa1a31389"
    },
    {
      "cell_type": "markdown",
      "source": "### _Missing Not At Random_ (MNAR)",
      "metadata": {
        "tags": [],
        "deepnote_app_coordinates": {
          "h": 5,
          "w": 12,
          "x": 0,
          "y": 0
        },
        "cell_id": "9f81d8c6565049f0a9d37e33a1fe0174",
        "deepnote_cell_type": "markdown"
      },
      "block_group": "3b5b161c8144497bbff282e45cbe99fd"
    },
    {
      "cell_type": "code",
      "source": "(\n    diabetes_df\n    .missing.sort_variables_by_missingness()\n    .sort_values(by=\"insulin\")\n    .pipe(missingno.matrix)\n)",
      "metadata": {
        "tags": [],
        "source_hash": null,
        "output_cleared": true,
        "execution_start": 1709831731761,
        "execution_millis": 49,
        "deepnote_app_coordinates": {
          "h": 5,
          "w": 12,
          "x": 0,
          "y": 0
        },
        "deepnote_to_be_reexecuted": true,
        "cell_id": "179bcfbd65a24705b5845025c1816147",
        "deepnote_cell_type": "code"
      },
      "outputs": [],
      "outputs_reference": null,
      "execution_count": null,
      "block_group": "b95f58f589bf41a18130f9b72415138e"
    },
    {
      "cell_type": "markdown",
      "source": "## Concepto y aplicación de la matriz de sombras (_i.e._, _shadow matrix_)",
      "metadata": {
        "tags": [],
        "deepnote_app_coordinates": {
          "h": 5,
          "w": 12,
          "x": 0,
          "y": 613
        },
        "cell_id": "477ebe0d57a946548e432d51ab55c2d3",
        "deepnote_cell_type": "markdown"
      },
      "block_group": "c61b0f1d1656456fb5537bd491e781f0"
    },
    {
      "cell_type": "markdown",
      "source": " ### Construcción de la matriz de sombras",
      "metadata": {
        "tags": [],
        "deepnote_app_coordinates": {
          "h": 5,
          "w": 12,
          "x": 0,
          "y": 619
        },
        "cell_id": "421f6ead97aa49bca8f72ab4476b3727",
        "deepnote_cell_type": "markdown"
      },
      "block_group": "c52d8de41f074be89b32f7046aeae112"
    },
    {
      "cell_type": "code",
      "source": "(\n    riskfactors_df\n    .isna()\n    .replace({\n     False: \"Not missing\",\n     True: \"Missing\"\n    })\n    .add_suffix(\"_NA\")\n    .pipe(\n        lambda shadow_matriz: pd.contact(\n            [riskfactors_df, shadow_matriz],\n            axis=\"columns\"\n        )\n    )\n)",
      "metadata": {
        "tags": [],
        "source_hash": null,
        "output_cleared": true,
        "execution_start": 1709832461893,
        "execution_millis": 132,
        "deepnote_app_coordinates": {
          "h": 5,
          "w": 12,
          "x": 0,
          "y": 625
        },
        "deepnote_to_be_reexecuted": true,
        "cell_id": "a9f62fdb261343a6867e60c55f8409c9",
        "deepnote_cell_type": "code"
      },
      "outputs": [],
      "outputs_reference": null,
      "execution_count": null,
      "block_group": "aa2040f321a549a4bdc5068c5ee88f35"
    },
    {
      "cell_type": "markdown",
      "source": "### Utilizar función de utilería `bind_shadow_matrix()`",
      "metadata": {
        "tags": [],
        "deepnote_app_coordinates": {
          "h": 5,
          "w": 12,
          "x": 0,
          "y": 0
        },
        "cell_id": "fefdeda448994c138bd37afacd8a314b",
        "deepnote_cell_type": "markdown"
      },
      "block_group": "ada129c1b1af4bf2b087ad56af30b13f"
    },
    {
      "cell_type": "code",
      "source": "(\n    riskfactors_df\n    .missing\n    .bind_shadow_matrix(only_missing = True)\n)",
      "metadata": {
        "tags": [],
        "source_hash": null,
        "output_cleared": true,
        "execution_start": 1709832584959,
        "execution_millis": 113,
        "deepnote_app_coordinates": {
          "h": 5,
          "w": 12,
          "x": 0,
          "y": 631
        },
        "deepnote_to_be_reexecuted": true,
        "cell_id": "b9cdc12bc4cc4c9ebab55945323d0d88",
        "deepnote_cell_type": "code"
      },
      "outputs": [],
      "outputs_reference": null,
      "execution_count": null,
      "block_group": "a993f891fa564e928fce67d6e173050a"
    },
    {
      "cell_type": "markdown",
      "source": "### Explorar estadísticos utilizando las nuevas columnas de la matriz de sombras",
      "metadata": {
        "tags": [],
        "deepnote_app_coordinates": {
          "h": 5,
          "w": 12,
          "x": 0,
          "y": 637
        },
        "cell_id": "39ed22f05c064ab3a4e4bd98390d5324",
        "deepnote_cell_type": "markdown"
      },
      "block_group": "a76f0749208e48f5a55894f62932808d"
    },
    {
      "cell_type": "code",
      "source": "(\n    riskfactors_df\n    .missing.bind_shadow_matrix(only_missing = True)\n    .groupby([\"weight_lbs_NA]\")\n    [\"age\"]\n    .describe()\n    .reset_index()\n)",
      "metadata": {
        "tags": [],
        "source_hash": null,
        "output_cleared": true,
        "execution_start": 1709832745411,
        "execution_millis": 73,
        "deepnote_app_coordinates": {
          "h": 5,
          "w": 12,
          "x": 0,
          "y": 643
        },
        "deepnote_to_be_reexecuted": true,
        "cell_id": "bfa2e12e3c5d40ca90697fb8e305ddf4",
        "deepnote_cell_type": "code"
      },
      "outputs": [],
      "outputs_reference": null,
      "execution_count": null,
      "block_group": "a795f1e68a06439b8d9d2d40ab8e1787"
    },
    {
      "cell_type": "markdown",
      "source": "## Visualización de valores faltantes en una variable",
      "metadata": {
        "tags": [],
        "deepnote_app_coordinates": {
          "h": 5,
          "w": 12,
          "x": 0,
          "y": 0
        },
        "cell_id": "a1686810fb44409bab6e23dcc875a836",
        "deepnote_cell_type": "markdown"
      },
      "block_group": "697f20a070b745bf9a5171c1f618e3db"
    },
    {
      "cell_type": "code",
      "source": "(\n    riskfactors_df\n    .missing.bind_shadow_matrix(only_missing = True)\n    .pipe(\n        lambda df: (\n            sns.boxenplot(\n                data=df,\n                x=\"weight_lbs_NA\",\n                y=\"age\"\n            )\n        )\n    )\n)",
      "metadata": {
        "tags": [],
        "source_hash": null,
        "output_cleared": true,
        "execution_start": 1709833067312,
        "execution_millis": 16,
        "deepnote_app_coordinates": {
          "h": 5,
          "w": 12,
          "x": 0,
          "y": 0
        },
        "deepnote_to_be_reexecuted": true,
        "cell_id": "e39f663883d44cb78122a1410a0a7f0d",
        "deepnote_cell_type": "code"
      },
      "outputs": [],
      "outputs_reference": null,
      "execution_count": null,
      "block_group": "eaa03b2e403441f58d51709bef88b752"
    },
    {
      "cell_type": "code",
      "source": "(\n    riskfactors_df\n    .missing.bind_shadow_matrix(only_missing = True)\n    .pipe(\n        lambda df: (\n            sns.displot(\n                data=df,\n                x=\"age\",\n                hue=\"weight_lbs_NA\",\n                kind=\"kde\"\n            )\n        )\n    )\n)",
      "metadata": {
        "tags": [],
        "source_hash": null,
        "output_cleared": true,
        "execution_start": 1709833163541,
        "execution_millis": 274,
        "deepnote_app_coordinates": {
          "h": 5,
          "w": 12,
          "x": 0,
          "y": 0
        },
        "deepnote_to_be_reexecuted": true,
        "cell_id": "d7b97375186648dab6782a0175222e61",
        "deepnote_cell_type": "code"
      },
      "outputs": [],
      "outputs_reference": null,
      "execution_count": null,
      "block_group": "645b2e8dd06846d1a1b31a549b83396e"
    },
    {
      "cell_type": "code",
      "source": "(\n    riskfactors_df\n    .missing.bind_shadow_matrix(only_missing = True)\n    .pipe(\n        lambda df: (\n            sns.displot(\n                data=df,\n                x=\"age\",\n                col=\"weight_lbs_NA\"\n                facet_kws={\n                    \"sharey\": False\n                }\n            )\n        )\n    )\n)",
      "metadata": {
        "tags": [],
        "source_hash": null,
        "output_cleared": true,
        "execution_start": 1709833270179,
        "execution_millis": 145,
        "deepnote_app_coordinates": {
          "h": 5,
          "w": 12,
          "x": 0,
          "y": 0
        },
        "deepnote_to_be_reexecuted": true,
        "cell_id": "4a7dc3ec82aa494bb33875cbc4bedf1b",
        "deepnote_cell_type": "code"
      },
      "outputs": [],
      "outputs_reference": null,
      "execution_count": null,
      "block_group": "334b36e499574c13b3d1a9c0ea62735a"
    },
    {
      "cell_type": "code",
      "source": "(\n    riskfactors_df\n    .missing.bind_shadow_matrix(only_missing = True)\n    .pipe(\n        lambda df: (\n            sns.displot(\n                data=df,\n                x=\"age\",\n                col=\"marital_NA\",\n                row=\"weight_lbs_NA\"\n                }\n            )\n        )\n    )\n)",
      "metadata": {
        "tags": [],
        "source_hash": null,
        "output_cleared": true,
        "execution_start": 1709833443497,
        "execution_millis": 100,
        "deepnote_app_coordinates": {
          "h": 5,
          "w": 12,
          "x": 0,
          "y": 0
        },
        "deepnote_to_be_reexecuted": true,
        "cell_id": "35801caeb8954c269705f1214318000c",
        "deepnote_cell_type": "code"
      },
      "outputs": [],
      "outputs_reference": null,
      "execution_count": null,
      "block_group": "028a2b821fb9473b9f19371c3a51a448"
    },
    {
      "cell_type": "markdown",
      "source": "## Visualización de valores faltantes en dos variables",
      "metadata": {
        "tags": [],
        "deepnote_app_coordinates": {
          "h": 5,
          "w": 12,
          "x": 0,
          "y": 0
        },
        "cell_id": "0d9a6742f2354eaa98e5cf1b1c361a94",
        "deepnote_cell_type": "markdown"
      },
      "block_group": "ccaa1825717b44079d35574a2f111d74"
    },
    {
      "cell_type": "code",
      "source": "def column_fill_with_dummies(\n    column: pd.Series,\n    proportion_below: float=0.10,\n    jitter: float=0.075,\n    seed: int=42\n) -> pd.Series:\n\n     column = column.copy(deep=True)\n\n     #Extract value metadata\n     missing_mask = column.isna()\n     number_missing = missing_mask.sum()\n     column_range = column.max() - column.min()\n\n     # Shift data\n\n     column_shift = column.min() - column.min() * proportion_below\n\n     #Create the \"jitter\" (noise) to be added arround the points.\n     np.random.seed(seed)\n     column_jitter =(np.random.rand(number_missing) - 2) * column_range * jitter\n\n     #Save new dummy data. \n     column[missing_mask] = column_shift + column_jitter\n\n     return column ",
      "metadata": {
        "tags": [],
        "source_hash": null,
        "output_cleared": true,
        "execution_start": 1709834462924,
        "execution_millis": 80,
        "deepnote_app_coordinates": {
          "h": 5,
          "w": 12,
          "x": 0,
          "y": 0
        },
        "deepnote_to_be_reexecuted": true,
        "cell_id": "6f84b51110ab4a2da02cfdc0d8180df5",
        "deepnote_cell_type": "code"
      },
      "outputs": [],
      "outputs_reference": null,
      "execution_count": null,
      "block_group": "12399384cceb410b898c5b0dede61c9e"
    },
    {
      "cell_type": "code",
      "source": "(\n    riskfactors_df \n    .select_dtypes(\n        exclude=\"category\"\n    )\n    .pipe(\n        lambda df: df[df.columns[df.isna().any()]]\n    )\n    .missing.bind_shadow_matrix(true_string = True, false_string = False)\n    .appy(\n        lambda column: column if \"_NA\" in column.name else column_fill_with_dummies(column, proportion_below = 0.5, jitter = 0.075)\n    \n    )\n    .assign(\n        nullity = lambda df: df .weight_lbs_NA | df.height_inch_NA\n    )\n    .pipe(\n        lambda df: (\n            sns.scatterplot(\n                data=df,\n                x=\"weight_lbs\",\n                y=\"height_inch\",\n                hue=\"nullity\"\n            )\n    )\n)",
      "metadata": {
        "tags": [],
        "source_hash": null,
        "output_cleared": true,
        "execution_start": 1709835770255,
        "execution_millis": 63,
        "deepnote_app_coordinates": {
          "h": 5,
          "w": 12,
          "x": 0,
          "y": 0
        },
        "deepnote_to_be_reexecuted": true,
        "cell_id": "ef07846a07b944f08884325a6aecbaab",
        "deepnote_cell_type": "code"
      },
      "outputs": [],
      "outputs_reference": null,
      "execution_count": null,
      "block_group": "28632903b4d34098b98427ba162be04d"
    },
    {
      "cell_type": "markdown",
      "source": "## Correlación de nulidad",
      "metadata": {
        "tags": [],
        "deepnote_app_coordinates": {
          "h": 5,
          "w": 12,
          "x": 0,
          "y": 0
        },
        "cell_id": "87118e7539e2423281beb6786493b92a",
        "deepnote_cell_type": "markdown"
      },
      "block_group": "46596e4b15284ff1a725d18dc0763146"
    },
    {
      "cell_type": "code",
      "source": "missingno.heatmap(\n    df=riskfactors_df\n)",
      "metadata": {
        "tags": [],
        "source_hash": "f72e29cc",
        "output_cleared": true,
        "execution_start": 1709915990757,
        "execution_millis": 99,
        "deepnote_to_be_reexecuted": false,
        "cell_id": "827f9cb4734c4d51bb1226e4f3c85895",
        "deepnote_cell_type": "code"
      },
      "outputs": [],
      "outputs_reference": null,
      "execution_count": 4,
      "block_group": "751975d1906e4246b50de71217cf79c8"
    },
    {
      "cell_type": "code",
      "source": "missingno.dendrogram(\n    df=riskfactors_df\n)",
      "metadata": {
        "tags": [],
        "source_hash": "94132775",
        "execution_start": 1709915981472,
        "execution_millis": 1547,
        "deepnote_app_coordinates": {
          "h": 5,
          "w": 12,
          "x": 0,
          "y": 0
        },
        "deepnote_to_be_reexecuted": false,
        "cell_id": "4377528f3d9045c4825ccb5efc38f0b5",
        "deepnote_cell_type": "code"
      },
      "outputs": [
        {
          "output_type": "error",
          "ename": "NameError",
          "evalue": "name 'riskfactors_df' is not defined",
          "traceback": [
            "\u001b[0;31m---------------------------------------------------------------------------\u001b[0m",
            "\u001b[0;31mNameError\u001b[0m                                 Traceback (most recent call last)",
            "Cell \u001b[0;32mIn [3], line 4\u001b[0m\n\u001b[1;32m      1\u001b[0m \u001b[38;5;28;01mimport\u001b[39;00m \u001b[38;5;21;01mmissingno\u001b[39;00m\n\u001b[1;32m      3\u001b[0m missingno\u001b[38;5;241m.\u001b[39mdendrogram(\n\u001b[0;32m----> 4\u001b[0m     df\u001b[38;5;241m=\u001b[39m\u001b[43mriskfactors_df\u001b[49m\n\u001b[1;32m      5\u001b[0m )\n",
            "\u001b[0;31mNameError\u001b[0m: name 'riskfactors_df' is not defined"
          ]
        }
      ],
      "outputs_reference": null,
      "execution_count": 3,
      "block_group": "7209014bf1f7450c9171408d2839a8a7"
    },
    {
      "cell_type": "markdown",
      "source": "## Eliminación de valores faltantes",
      "metadata": {
        "tags": [],
        "deepnote_app_coordinates": {
          "h": 5,
          "w": 12,
          "x": 0,
          "y": 0
        },
        "cell_id": "8403a30c78b34a25a3d38a7a419411de",
        "deepnote_cell_type": "markdown"
      },
      "block_group": "ce2f407d1ae645e48082d5168639ec4d"
    },
    {
      "cell_type": "markdown",
      "source": "<div class=\"alert alert-warning\", role=\"alert\">\n    <b style=\"font-size: 1.5em;\">🚧 Advertencia</b>\n    <p>\n    La eliminación de valores faltantes <b>asume</b> que los valores faltantes están perdidos\n    completamente al azar (<code>MCAR</code>). En cualquier otro caso, realizar una\n    eliminación de valores faltantes podrá ocasionar <b>sesgos</b> en los\n    análisis y modelos subsecuentes.\n    </p>\n</div>",
      "metadata": {
        "tags": [],
        "deepnote_app_coordinates": {
          "h": 5,
          "w": 12,
          "x": 0,
          "y": 0
        },
        "cell_id": "3333b149b64a4ae5a07cd6281400458e",
        "deepnote_cell_type": "markdown"
      },
      "block_group": "c882fcf6fd624a8b9a6220ac9f86d046"
    },
    {
      "cell_type": "markdown",
      "source": "Primero observa el número total de observaciones y variables que tiene tu conjunto de datos.",
      "metadata": {
        "tags": [],
        "deepnote_app_coordinates": {
          "h": 5,
          "w": 12,
          "x": 0,
          "y": 0
        },
        "cell_id": "c3643494f34f4fd6829bcc15da0f2c02",
        "deepnote_cell_type": "markdown"
      },
      "block_group": "0b38263c1ba44449aa7711b5b2960653"
    },
    {
      "cell_type": "code",
      "source": "riskfactors_df.shape",
      "metadata": {
        "tags": [],
        "source_hash": "f161de07",
        "output_cleared": true,
        "execution_start": 1709916029473,
        "execution_millis": 38,
        "deepnote_app_coordinates": {
          "h": 5,
          "w": 12,
          "x": 0,
          "y": 0
        },
        "deepnote_to_be_reexecuted": false,
        "cell_id": "be65df9f6dc44d2bb32fc33a509f0fc7",
        "deepnote_cell_type": "code"
      },
      "outputs": [],
      "outputs_reference": null,
      "execution_count": 5,
      "block_group": "e1cf2087dce9461b853e6915820de346"
    },
    {
      "cell_type": "markdown",
      "source": "### _Pairwise deletion_ (eliminación por pares)",
      "metadata": {
        "tags": [],
        "deepnote_app_coordinates": {
          "h": 5,
          "w": 12,
          "x": 0,
          "y": 0
        },
        "cell_id": "1467f3d0cf04414e84a9bb9609b6b441",
        "deepnote_cell_type": "markdown"
      },
      "block_group": "71248fcd23a14cc2aa59cedc85d06961"
    },
    {
      "cell_type": "code",
      "source": "(\n    riskfactors_df\n    .weight_lbs\n    .mean()\n  \n             \n)",
      "metadata": {
        "tags": [],
        "source_hash": "81854e78",
        "output_cleared": true,
        "execution_start": 1709916110795,
        "execution_millis": 48,
        "deepnote_app_coordinates": {
          "h": 5,
          "w": 12,
          "x": 0,
          "y": 0
        },
        "deepnote_to_be_reexecuted": false,
        "cell_id": "dadd1a011d1148fea2c839b4ec5755c6",
        "deepnote_cell_type": "code"
      },
      "outputs": [],
      "outputs_reference": null,
      "execution_count": 6,
      "block_group": "27f94290bffa4703a7e5c7a1142d8bd6"
    },
    {
      "cell_type": "code",
      "source": "riskfactors_df .weight_lbs.size. riskfactors_df .weight_lbs.count()",
      "metadata": {
        "tags": [],
        "source_hash": "7f5c100f",
        "output_cleared": true,
        "execution_start": 1709916163008,
        "execution_millis": 55,
        "deepnote_app_coordinates": {
          "h": 5,
          "w": 12,
          "x": 0,
          "y": 0
        },
        "deepnote_to_be_reexecuted": false,
        "cell_id": "07af69075c7c45849b065d19201d87f2",
        "deepnote_cell_type": "code"
      },
      "outputs": [],
      "outputs_reference": null,
      "execution_count": 7,
      "block_group": "7abfaebd304b4caca7cf8ccc19925360"
    },
    {
      "cell_type": "code",
      "source": "riskfactors_df.weight_lbs.mean(skipna=False)",
      "metadata": {
        "tags": [],
        "source_hash": "6a99d1e",
        "output_cleared": true,
        "execution_start": 1709916341751,
        "execution_millis": 96,
        "deepnote_app_coordinates": {
          "h": 5,
          "w": 12,
          "x": 0,
          "y": 0
        },
        "deepnote_to_be_reexecuted": false,
        "cell_id": "2fa32d60f2724e379c2e4dd66402b467",
        "deepnote_cell_type": "code"
      },
      "outputs": [],
      "outputs_reference": null,
      "execution_count": 9,
      "block_group": "3723c8618c7748d3bdeac99bf18d6513"
    },
    {
      "cell_type": "markdown",
      "source": "### _Listwise Deletion or Complete Case_ (Eliminación por lista o caso completo)",
      "metadata": {
        "tags": [],
        "deepnote_app_coordinates": {
          "h": 5,
          "w": 12,
          "x": 0,
          "y": 0
        },
        "cell_id": "2bd794b5861043588339cffeecded350",
        "deepnote_cell_type": "markdown"
      },
      "block_group": "fc9e1bf84cf44601862a5b1ee5c3d8bb"
    },
    {
      "cell_type": "markdown",
      "source": "#### Con base en 1 columna",
      "metadata": {
        "tags": [],
        "deepnote_app_coordinates": {
          "h": 5,
          "w": 12,
          "x": 0,
          "y": 0
        },
        "cell_id": "acec95679d5c437098ffeff65494ae91",
        "deepnote_cell_type": "markdown"
      },
      "block_group": "dbe24d2077a24242bf18e44d34448c19"
    },
    {
      "cell_type": "code",
      "source": "(\n    riskfactors_df\n    .dropna(\n        subset=[\"weight_lbs\"],\n        how=\"any\"\n    )\n    .shape\n)",
      "metadata": {
        "tags": [],
        "source_hash": "d374f2a1",
        "output_cleared": true,
        "execution_start": 1709916520004,
        "execution_millis": 19,
        "deepnote_to_be_reexecuted": false,
        "cell_id": "98ffa89173e74bb78f80f28b8cae8130",
        "deepnote_cell_type": "code"
      },
      "outputs": [],
      "outputs_reference": null,
      "execution_count": 11,
      "block_group": "042931c6c02048c69cc7775ec183da66"
    },
    {
      "cell_type": "markdown",
      "source": "#### Con base en 2 o más columnas",
      "metadata": {
        "tags": [],
        "deepnote_app_coordinates": {
          "h": 5,
          "w": 12,
          "x": 0,
          "y": 0
        },
        "cell_id": "95c1a820ace94727ad7401da489f056a",
        "deepnote_cell_type": "markdown"
      },
      "block_group": "d60c196c14594856bf41230118632f36"
    },
    {
      "cell_type": "code",
      "source": "(\n    riskfactors_df\n    .dropna(\n        subset=[\"weight_lbs\", \"height_inch\"],\n        how=\"any\"\n    )\n    .shape\n)",
      "metadata": {
        "tags": [],
        "source_hash": "18a20483",
        "output_cleared": true,
        "execution_start": 1709916537756,
        "execution_millis": 55,
        "deepnote_to_be_reexecuted": false,
        "cell_id": "c910ab8ac3d1471ba3c9abe95e02d3db",
        "deepnote_cell_type": "code"
      },
      "outputs": [],
      "outputs_reference": null,
      "execution_count": 12,
      "block_group": "4ad29f01ed5d4658945287af43289f1c"
    },
    {
      "cell_type": "code",
      "source": "(\n    riskfactors_df\n    .dropna(\n        subset=[\"weight_lbs\", \"height_inch\"],\n        how=\"all\"\n    )\n    .shape\n)",
      "metadata": {
        "tags": [],
        "source_hash": "2565eb7",
        "output_cleared": true,
        "execution_start": 1709916596512,
        "execution_millis": 14,
        "deepnote_app_coordinates": {
          "h": 5,
          "w": 12,
          "x": 0,
          "y": 0
        },
        "deepnote_to_be_reexecuted": false,
        "cell_id": "7734bf3d6a564377932e36fe04e3b4c5",
        "deepnote_cell_type": "code"
      },
      "outputs": [],
      "outputs_reference": null,
      "execution_count": 13,
      "block_group": "bdf2a346776a4c0f8adb5632a3702f28"
    },
    {
      "cell_type": "markdown",
      "source": "### Representación gráfica tras la eliminación de los valores faltantes",
      "metadata": {
        "tags": [],
        "deepnote_app_coordinates": {
          "h": 5,
          "w": 12,
          "x": 0,
          "y": 0
        },
        "cell_id": "abf944f7e479424b8786bbe1f3bc507a",
        "deepnote_cell_type": "markdown"
      },
      "block_group": "1bf730599def45dba870c846c6cb1a7a"
    },
    {
      "cell_type": "code",
      "source": "(\n    riskfactors_df\n    .dropna(\n        subset=[\"weight_lbs\", \"height_inch\"],\n        how=\"any\"\n    )\n    .select_columns([\"weight_lbs\", \"height_inch\"])\n    .pipe(missingno.matrix)\n)",
      "metadata": {
        "tags": [],
        "source_hash": "7f5e7427",
        "output_cleared": true,
        "execution_start": 1709916722716,
        "execution_millis": 176,
        "deepnote_app_coordinates": {
          "h": 5,
          "w": 12,
          "x": 0,
          "y": 0
        },
        "deepnote_to_be_reexecuted": false,
        "cell_id": "358f1ae9c0a7496b91e3855a8e3fcfe4",
        "deepnote_cell_type": "code"
      },
      "outputs": [],
      "outputs_reference": null,
      "execution_count": 16,
      "block_group": "ca88f511e83248a3ab3e730ca414edb0"
    },
    {
      "cell_type": "code",
      "source": "(\n    riskfactors_df\n    .dropna(\n        subset=[\"weight_lbs\", \"height_inch\"],\n        how=\"all\"\n    )\n    .select_columns([\"weight_lbs\", \"height_inch\"])\n    .pipe(missingno.matrix)\n)",
      "metadata": {
        "tags": [],
        "source_hash": "471b0389",
        "output_cleared": true,
        "execution_start": 1709916728078,
        "execution_millis": 88,
        "deepnote_app_coordinates": {
          "h": 5,
          "w": 12,
          "x": 0,
          "y": 0
        },
        "deepnote_to_be_reexecuted": false,
        "cell_id": "0b09b775ee3d4810b76a3771c8de4230",
        "deepnote_cell_type": "code"
      },
      "outputs": [],
      "outputs_reference": null,
      "execution_count": 17,
      "block_group": "5d6c1e6ebff34868b92953c970d1b0c2"
    },
    {
      "cell_type": "markdown",
      "source": "## Imputación básica de valores faltantes",
      "metadata": {
        "tags": [],
        "deepnote_app_coordinates": {
          "h": 5,
          "w": 12,
          "x": 0,
          "y": 0
        },
        "cell_id": "955d4c23d3d343dbbff7b9bd7734a0eb",
        "deepnote_cell_type": "markdown"
      },
      "block_group": "6f391b0775954e6691ee43defe886531"
    },
    {
      "cell_type": "markdown",
      "source": "### Imputación con base en el contexto",
      "metadata": {
        "tags": [],
        "deepnote_app_coordinates": {
          "h": 5,
          "w": 12,
          "x": 0,
          "y": 0
        },
        "cell_id": "17b58e8443534c3fbfb71e510284204b",
        "deepnote_cell_type": "markdown"
      },
      "block_group": "a6085d2c93f54c20b1dd2177e16eb208"
    },
    {
      "cell_type": "code",
      "source": "implicit_to_explicit_df = pd.DataFrame(\n    data={\n        \"name\": [\"lynn\", np.nan, \"zelda\", np.nan, \"shadowsong\", np.nan],\n        \"time\": [\"morning\", \"afternoon\", \"morning\", \"afternoon\", \"morning\", \"afternoon\",],\n        \"value\": [350, 310, 320, 350, 310, 320]\n    }\n)\n\nimplicit_to_explicit_df",
      "metadata": {
        "tags": [],
        "source_hash": "b688ade5",
        "output_cleared": true,
        "execution_start": 1709916936261,
        "execution_millis": 92,
        "deepnote_app_coordinates": {
          "h": 5,
          "w": 12,
          "x": 0,
          "y": 0
        },
        "deepnote_to_be_reexecuted": false,
        "cell_id": "0247d799ae644c828ed44b9b0fe6961a",
        "deepnote_cell_type": "code"
      },
      "outputs": [],
      "outputs_reference": null,
      "execution_count": 18,
      "block_group": "b504b00ff66f44549050212ab29d6b63"
    },
    {
      "cell_type": "code",
      "source": "implicit_to_explicit_df.ffill()",
      "metadata": {
        "tags": [],
        "source_hash": "684872d1",
        "output_cleared": true,
        "execution_start": 1709917048644,
        "execution_millis": 80,
        "deepnote_to_be_reexecuted": false,
        "cell_id": "194227ec80b64677b49a4ce4d16883f6",
        "deepnote_cell_type": "code"
      },
      "outputs": [],
      "outputs_reference": null,
      "execution_count": 19,
      "block_group": "887295f7ef094524863624720c6d9b83"
    },
    {
      "cell_type": "markdown",
      "source": "### Imputación de un único valor",
      "metadata": {
        "tags": [],
        "deepnote_app_coordinates": {
          "h": 5,
          "w": 12,
          "x": 0,
          "y": 0
        },
        "cell_id": "a7999238951b47d9a824ee22682a8246",
        "deepnote_cell_type": "markdown"
      },
      "block_group": "b80f2ebad24e416aa07ef141b3830218"
    },
    {
      "cell_type": "code",
      "source": "(\n    riskfactors_df\n    select_columns(\"weight_lbs\", \"height_inch\", \"bmi\")\n    .missing.bind_shadow_matrix(true_string = True, false_string = False)\n    .apply(\n        axis = \"rows\",\n        func = lambda column: column.fillna(column.mean()) if \"_NA\" in column.name else column\n    )\n    .pipe(\n        lambda df: (\n            sns.displot(\n                data=df,\n                x=\"weight_lbs\",\n                hue=\"weight_lbs_NA\"\n            )\n        )\n    )\n)",
      "metadata": {
        "tags": [],
        "source_hash": "5cf6dd05",
        "output_cleared": true,
        "execution_start": 1709917311729,
        "execution_millis": 68,
        "deepnote_app_coordinates": {
          "h": 5,
          "w": 12,
          "x": 0,
          "y": 0
        },
        "deepnote_to_be_reexecuted": false,
        "cell_id": "ee4702513f2f4712a6a4e91c6cbe3869",
        "deepnote_cell_type": "code"
      },
      "outputs": [],
      "outputs_reference": null,
      "execution_count": 21,
      "block_group": "4528ea5606884c968f916b84cb5f4270"
    },
    {
      "cell_type": "code",
      "source": "(\n    riskfactors_df\n    select_columns(\"weight_lbs\", \"height_inch\", \"bmi\")\n    .missing.bind_shadow_matrix(true_string = True, false_string = False)\n    .apply(\n        axis = \"rows\",\n        func = lambda column: column.fillna(column.mean()) if \"_NA\" in column.name else column\n    )\n    .assign( \n        imputed=lambda df: df.weight_lbs_NA | df.height_inch_NA \n    )\n    .pipe(\n        lambda df: (\n            sns.scatterplot(\n                data=df,\n                x=\"weight_lbs\",\n                y=\"height_inch\",\n                hue=\"imputed\"\n            )\n        )\n    )\n)",
      "metadata": {
        "tags": [],
        "source_hash": "c48e37e9",
        "output_cleared": true,
        "execution_start": 1709917488876,
        "execution_millis": 74,
        "deepnote_app_coordinates": {
          "h": 5,
          "w": 12,
          "x": 0,
          "y": 0
        },
        "deepnote_to_be_reexecuted": false,
        "cell_id": "0447fee8ac5e4ba6a4d56d54a0c73b42",
        "deepnote_cell_type": "code"
      },
      "outputs": [],
      "outputs_reference": null,
      "execution_count": 23,
      "block_group": "84a4c0915be84867968b5e747dbe06bd"
    },
    {
      "cell_type": "code",
      "source": "(\n    riskfactors_df\n    select_columns(\"weight_lbs\", \"height_inch\", \"bmi\")\n    .missing.bind_shadow_matrix(true_string = True, false_string = False)\n    .apply(\n        axis = \"rows\",\n        func = lambda column: column.fillna(column.mean()) if \"_NA\" in column.name else column\n    )\n    .pivot_longer(\n        index=\"*_NA\"\n    )\n    .pivot_longer(\n        index=[\"variable\", \"value\"],\n        names_to=\"variable_NA\",\n        values_to=\"value_NA\"\n    )\n    assign(\n        valid=lambda df:  df.apply(axis=\"columns\", func=lambda column: column.variable in column.variable_NA )\n    )\n    .querry(\"valid\")\n    .pipe(\n        lambda df: (\n            sns.displot(\n                data=df,\n                x=\"value\",\n                hue=\"value_NA\",\n                col=\"variable\",\n                common_bins=False,\n                facet_kws=(\n                    \"sharex\": False,\n                    \"sharey\": False\n\n                    \n                )\n            )\n    )\n  \n)",
      "metadata": {
        "tags": [],
        "source_hash": "62e7f4c5",
        "output_cleared": true,
        "execution_start": 1709918232360,
        "execution_millis": 113,
        "deepnote_app_coordinates": {
          "h": 5,
          "w": 12,
          "x": 0,
          "y": 0
        },
        "deepnote_to_be_reexecuted": false,
        "cell_id": "44838c2d2f5441cea0ad524c91201bda",
        "deepnote_cell_type": "code"
      },
      "outputs": [],
      "outputs_reference": null,
      "execution_count": 30,
      "block_group": "5b168cc0eb73462aa442159b9714510b"
    },
    {
      "cell_type": "markdown",
      "source": "## Continúa aprendiendo sobre el manejo de valores faltantes",
      "metadata": {
        "tags": [],
        "deepnote_app_coordinates": {
          "h": 5,
          "w": 12,
          "x": 0,
          "y": 0
        },
        "cell_id": "b6c7d4c417a743e6b0c6e96176ffb394",
        "deepnote_cell_type": "markdown"
      },
      "block_group": "3ab8e4ddc9314a5c974b523bab679331"
    },
    {
      "cell_type": "markdown",
      "source": "<div class=\"alert alert-success\">\n    <b style=\"font-size: 1.5em;\">✅ ¡Felicidades por terminar el curso!</b>\n    <p>\nHas aprendido bastante sobre la exploración y manipulación de valores faltantes.\n    </p>\n    <p>\nEmpezaste conociento las principales operaciones al trabajar con valores faltantes. Ahora, eres consciente de que estas operaciones no son universales y cada software decide tratar a los valores faltantes a su conveniencia.\n    </p>\n    <p>\nY, hablando de conveniencias, comenzaste tu camino en la exploración de valores faltantes a través de una representación universal de qué es lo que faltaba. No obstante, no pasó mucho para darte cuenta de que los valores faltantes pueden existir en formas muy variables. Incluso, en formas en las que no sabemos que nos faltan estos valores en sí mismos. \n    </p>\n    <p>\nCon los valores faltantes ya expuestos, te conviertes en una persona capaz de explorarlos en profundidad de forma estadística y visual. Entendiendo así, los distintos mecanismos que pueden tener los valores faltantes: MCAR, MAR y MNAR.\n    </p>\n    <p>\nA su vez, aprendiste las bases sobre cómo tratarlos a través de la eliminación de elementos o la imputación de valores de una forma básica y sencilla. Por lo tanto, necesitarás continuar tu camino de aprendizaje con un curso que te permita profundizar en estas técnicas de tratamiento para valores faltantes.\n    </p>\n    <p>\nTe recomiendo continuar con mi <a href=\"https://platzi.com/cursos/datos-faltantes-imputacion/\">Curso de Manejo de Datos Faltantes: Imputación</a>. Estoy seguro de que tus habilidades adquiridas hasta el momento mejorarán, permitiéndote realizar análisis cada vez más complejos y cercanos al mundo real.\n    </p>\n    <p>\n    Con mucha alegría por tu logro,\n   Jesús Vélez Santiago\n    </p>\n    \n</div>",
      "metadata": {
        "tags": [],
        "deepnote_app_coordinates": {
          "h": 5,
          "w": 12,
          "x": 0,
          "y": 0
        },
        "cell_id": "03ec38a5a74a4cf1b6766cc684a269e3",
        "deepnote_cell_type": "markdown"
      },
      "block_group": "622c3131691b4916ab6aa48ba20a4605"
    },
    {
      "cell_type": "markdown",
      "source": "## Información de sesión",
      "metadata": {
        "tags": [],
        "deepnote_app_coordinates": {
          "h": 5,
          "w": 12,
          "x": 0,
          "y": 649
        },
        "cell_id": "1b52886ebee44989b97b6afc56ec0b16",
        "deepnote_cell_type": "markdown"
      },
      "block_group": "014c22420a8b4de4afa8375a2707039b"
    },
    {
      "cell_type": "code",
      "source": "session_info.show()",
      "metadata": {
        "tags": [],
        "source_hash": null,
        "output_cleared": true,
        "execution_start": 1659215529131,
        "execution_millis": 416,
        "deepnote_app_coordinates": {
          "h": 5,
          "w": 12,
          "x": 0,
          "y": 655
        },
        "deepnote_to_be_reexecuted": true,
        "cell_id": "b9780de9800b40e9a4f4ef52c7602e5b",
        "deepnote_cell_type": "code"
      },
      "outputs": [],
      "outputs_reference": null,
      "execution_count": null,
      "block_group": "98f8b4de58d84a5ea6f97210adfef5a6"
    },
    {
      "cell_type": "markdown",
      "source": "<a style='text-decoration:none;line-height:16px;display:flex;color:#5B5B62;padding:10px;justify-content:end;' href='https://deepnote.com?utm_source=created-in-deepnote-cell&projectId=0d6442de-1266-44a4-abe0-6e03aa5003ab' target=\"_blank\">\n<img alt='Created in deepnote.com' style='display:inline;max-height:16px;margin:0px;margin-right:7.5px;' src='data:image/svg+xml;base64,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' > </img>\nCreated in <span style='font-weight:600;margin-left:4px;'>Deepnote</span></a>",
      "metadata": {
        "created_in_deepnote_cell": true,
        "deepnote_cell_type": "markdown"
      }
    }
  ],
  "nbformat": 4,
  "nbformat_minor": 0,
  "metadata": {
    "deepnote_persisted_session": {
      "createdAt": "2024-03-07T18:51:42.320Z"
    },
    "deepnote_app_layout": "article",
    "deepnote_notebook_id": "fe950d43224d49daa93a14ab5d90ce73",
    "deepnote_execution_queue": []
  }
}